{
 "cells": [
  {
   "cell_type": "markdown",
   "metadata": {},
   "source": [
    "## Group No: 068\n",
    "## Group Members\n",
    "### 1. Ankur kumar:     2020SC04494                               ||  Contribution 100%\n",
    "### 2. Abhishek Pandey: 2020SC04655                           ||  Contribution   100%\n",
    "### 3. Saksham Agarwal: 2020SC04418                          ||  Contribution   100%"
   ]
  },
  {
   "cell_type": "markdown",
   "metadata": {},
   "source": [
    "## Data set: Pre-processed Donors Choose data set"
   ]
  },
  {
   "cell_type": "markdown",
   "metadata": {},
   "source": [
    "# Part A"
   ]
  },
  {
   "cell_type": "markdown",
   "metadata": {},
   "source": [
    "## A1. Import library/dataset"
   ]
  },
  {
   "cell_type": "code",
   "execution_count": 44,
   "metadata": {},
   "outputs": [],
   "source": [
    "import numpy as np\n",
    "import matplotlib.pyplot as plt\n",
    "import pandas as pd\n",
    "import seaborn as sns\n",
    "from sklearn.model_selection import train_test_split"
   ]
  },
  {
   "cell_type": "code",
   "execution_count": 45,
   "metadata": {},
   "outputs": [
    {
     "data": {
      "text/plain": [
       "Index(['id', 'teacher_prefix', 'school_state', 'project_grade_category',\n",
       "       'project_subject_categories', 'project_subject_subcategories',\n",
       "       'teacher_number_of_previously_posted_projects', 'project_is_approved',\n",
       "       'price', 'quantity', 'cleaned_titles', 'cleaned_essays',\n",
       "       'cleaned_summary', 'isdigit_summary'],\n",
       "      dtype='object')"
      ]
     },
     "execution_count": 45,
     "metadata": {},
     "output_type": "execute_result"
    }
   ],
   "source": [
    "#read donors choose dataset\n",
    "dataset = pd.read_csv('Preprocessed_DonorsChoose_dataset.csv')\n",
    "dataset.columns"
   ]
  },
  {
   "cell_type": "markdown",
   "metadata": {},
   "source": [
    "## A2. Data visualisation and exploration"
   ]
  },
  {
   "cell_type": "code",
   "execution_count": 46,
   "metadata": {},
   "outputs": [
    {
     "data": {
      "text/html": [
       "<div>\n",
       "<style scoped>\n",
       "    .dataframe tbody tr th:only-of-type {\n",
       "        vertical-align: middle;\n",
       "    }\n",
       "\n",
       "    .dataframe tbody tr th {\n",
       "        vertical-align: top;\n",
       "    }\n",
       "\n",
       "    .dataframe thead th {\n",
       "        text-align: right;\n",
       "    }\n",
       "</style>\n",
       "<table border=\"1\" class=\"dataframe\">\n",
       "  <thead>\n",
       "    <tr style=\"text-align: right;\">\n",
       "      <th></th>\n",
       "      <th>id</th>\n",
       "      <th>teacher_prefix</th>\n",
       "      <th>school_state</th>\n",
       "      <th>project_grade_category</th>\n",
       "      <th>project_subject_categories</th>\n",
       "      <th>project_subject_subcategories</th>\n",
       "      <th>teacher_number_of_previously_posted_projects</th>\n",
       "      <th>project_is_approved</th>\n",
       "      <th>price</th>\n",
       "      <th>quantity</th>\n",
       "      <th>cleaned_titles</th>\n",
       "      <th>cleaned_essays</th>\n",
       "      <th>cleaned_summary</th>\n",
       "      <th>isdigit_summary</th>\n",
       "    </tr>\n",
       "  </thead>\n",
       "  <tbody>\n",
       "    <tr>\n",
       "      <th>0</th>\n",
       "      <td>p253737</td>\n",
       "      <td>mrs</td>\n",
       "      <td>in</td>\n",
       "      <td>grades_prek_2</td>\n",
       "      <td>literacy_language</td>\n",
       "      <td>esl_literacy</td>\n",
       "      <td>0</td>\n",
       "      <td>0</td>\n",
       "      <td>154.60</td>\n",
       "      <td>23</td>\n",
       "      <td>educational support english learners home</td>\n",
       "      <td>students english learners working english seco...</td>\n",
       "      <td>students_need_opportunities_practice_beginning...</td>\n",
       "      <td>0</td>\n",
       "    </tr>\n",
       "    <tr>\n",
       "      <th>1</th>\n",
       "      <td>p258326</td>\n",
       "      <td>mr</td>\n",
       "      <td>fl</td>\n",
       "      <td>grades_6_8</td>\n",
       "      <td>history_civics_health_sports</td>\n",
       "      <td>civics_government_teamsports</td>\n",
       "      <td>7</td>\n",
       "      <td>1</td>\n",
       "      <td>299.00</td>\n",
       "      <td>1</td>\n",
       "      <td>wanted projector hungry learners</td>\n",
       "      <td>students arrive school eager learn polite gene...</td>\n",
       "      <td>students_need_projector_help_viewing_education...</td>\n",
       "      <td>0</td>\n",
       "    </tr>\n",
       "    <tr>\n",
       "      <th>2</th>\n",
       "      <td>p182444</td>\n",
       "      <td>ms</td>\n",
       "      <td>az</td>\n",
       "      <td>grades_6_8</td>\n",
       "      <td>health_sports</td>\n",
       "      <td>health_wellness_teamsports</td>\n",
       "      <td>1</td>\n",
       "      <td>0</td>\n",
       "      <td>516.85</td>\n",
       "      <td>22</td>\n",
       "      <td>soccer equipment awesome middle school students</td>\n",
       "      <td>true champions not always ones win guts mia ha...</td>\n",
       "      <td>students_need_shine_guards_athletic_socks_socc...</td>\n",
       "      <td>0</td>\n",
       "    </tr>\n",
       "    <tr>\n",
       "      <th>3</th>\n",
       "      <td>p246581</td>\n",
       "      <td>mrs</td>\n",
       "      <td>ky</td>\n",
       "      <td>grades_prek_2</td>\n",
       "      <td>literacy_language_math_science</td>\n",
       "      <td>literacy_mathematics</td>\n",
       "      <td>4</td>\n",
       "      <td>1</td>\n",
       "      <td>232.90</td>\n",
       "      <td>4</td>\n",
       "      <td>techie kindergarteners</td>\n",
       "      <td>work unique school filled esl english second l...</td>\n",
       "      <td>students_need_engage_reading_math_way_inspire_...</td>\n",
       "      <td>0</td>\n",
       "    </tr>\n",
       "    <tr>\n",
       "      <th>4</th>\n",
       "      <td>p104768</td>\n",
       "      <td>mrs</td>\n",
       "      <td>tx</td>\n",
       "      <td>grades_prek_2</td>\n",
       "      <td>math_science</td>\n",
       "      <td>mathematics</td>\n",
       "      <td>1</td>\n",
       "      <td>1</td>\n",
       "      <td>67.98</td>\n",
       "      <td>4</td>\n",
       "      <td>interactive math tools</td>\n",
       "      <td>second grade classroom next year made around 2...</td>\n",
       "      <td>students_need_hands_practice_mathematics_fun_p...</td>\n",
       "      <td>0</td>\n",
       "    </tr>\n",
       "    <tr>\n",
       "      <th>5</th>\n",
       "      <td>p154343</td>\n",
       "      <td>mrs</td>\n",
       "      <td>fl</td>\n",
       "      <td>grades_3_5</td>\n",
       "      <td>literacy_language_specialneeds</td>\n",
       "      <td>literature_writing_specialneeds</td>\n",
       "      <td>1</td>\n",
       "      <td>1</td>\n",
       "      <td>113.22</td>\n",
       "      <td>11</td>\n",
       "      <td>flexible seating mrs jarvis terrific third gra...</td>\n",
       "      <td>moving 2nd grade 3rd grade beginning next scho...</td>\n",
       "      <td>students_need_movement_successful_variety_stud...</td>\n",
       "      <td>0</td>\n",
       "    </tr>\n",
       "    <tr>\n",
       "      <th>6</th>\n",
       "      <td>p099819</td>\n",
       "      <td>mrs</td>\n",
       "      <td>ct</td>\n",
       "      <td>grades_6_8</td>\n",
       "      <td>literacy_language_specialneeds</td>\n",
       "      <td>literacy_specialneeds</td>\n",
       "      <td>1</td>\n",
       "      <td>1</td>\n",
       "      <td>159.99</td>\n",
       "      <td>3</td>\n",
       "      <td>chromebooks special education reading program</td>\n",
       "      <td>students dynamic energetic group middle school...</td>\n",
       "      <td>students_need_dependable_laptops_daily_classro...</td>\n",
       "      <td>0</td>\n",
       "    </tr>\n",
       "    <tr>\n",
       "      <th>7</th>\n",
       "      <td>p092424</td>\n",
       "      <td>ms</td>\n",
       "      <td>ga</td>\n",
       "      <td>grades_3_5</td>\n",
       "      <td>math_science</td>\n",
       "      <td>mathematics</td>\n",
       "      <td>7</td>\n",
       "      <td>1</td>\n",
       "      <td>229.00</td>\n",
       "      <td>4</td>\n",
       "      <td>21st century</td>\n",
       "      <td>not students struggle poverty also learning ma...</td>\n",
       "      <td>students_need_ipads_help_access_world_online_r...</td>\n",
       "      <td>0</td>\n",
       "    </tr>\n",
       "    <tr>\n",
       "      <th>8</th>\n",
       "      <td>p045029</td>\n",
       "      <td>mrs</td>\n",
       "      <td>sc</td>\n",
       "      <td>grades_prek_2</td>\n",
       "      <td>health_sports</td>\n",
       "      <td>health_wellness</td>\n",
       "      <td>28</td>\n",
       "      <td>1</td>\n",
       "      <td>241.98</td>\n",
       "      <td>6</td>\n",
       "      <td>targeting success class</td>\n",
       "      <td>students enthusiastic inquisitive learners k 6...</td>\n",
       "      <td>students_need_three_devices_three_management_l...</td>\n",
       "      <td>0</td>\n",
       "    </tr>\n",
       "    <tr>\n",
       "      <th>9</th>\n",
       "      <td>p001713</td>\n",
       "      <td>ms</td>\n",
       "      <td>nc</td>\n",
       "      <td>grades_prek_2</td>\n",
       "      <td>literacy_language</td>\n",
       "      <td>literacy_literature_writing</td>\n",
       "      <td>36</td>\n",
       "      <td>1</td>\n",
       "      <td>125.36</td>\n",
       "      <td>14</td>\n",
       "      <td>love reading pure pleasure</td>\n",
       "      <td>95 students free reduced lunch homeless despit...</td>\n",
       "      <td>students_need_great_books_use_independent_read...</td>\n",
       "      <td>0</td>\n",
       "    </tr>\n",
       "  </tbody>\n",
       "</table>\n",
       "</div>"
      ],
      "text/plain": [
       "        id teacher_prefix school_state project_grade_category  \\\n",
       "0  p253737            mrs           in          grades_prek_2   \n",
       "1  p258326             mr           fl             grades_6_8   \n",
       "2  p182444             ms           az             grades_6_8   \n",
       "3  p246581            mrs           ky          grades_prek_2   \n",
       "4  p104768            mrs           tx          grades_prek_2   \n",
       "5  p154343            mrs           fl             grades_3_5   \n",
       "6  p099819            mrs           ct             grades_6_8   \n",
       "7  p092424             ms           ga             grades_3_5   \n",
       "8  p045029            mrs           sc          grades_prek_2   \n",
       "9  p001713             ms           nc          grades_prek_2   \n",
       "\n",
       "       project_subject_categories    project_subject_subcategories  \\\n",
       "0               literacy_language                     esl_literacy   \n",
       "1    history_civics_health_sports     civics_government_teamsports   \n",
       "2                   health_sports       health_wellness_teamsports   \n",
       "3  literacy_language_math_science             literacy_mathematics   \n",
       "4                    math_science                      mathematics   \n",
       "5  literacy_language_specialneeds  literature_writing_specialneeds   \n",
       "6  literacy_language_specialneeds            literacy_specialneeds   \n",
       "7                    math_science                      mathematics   \n",
       "8                   health_sports                  health_wellness   \n",
       "9               literacy_language      literacy_literature_writing   \n",
       "\n",
       "   teacher_number_of_previously_posted_projects  project_is_approved   price  \\\n",
       "0                                             0                    0  154.60   \n",
       "1                                             7                    1  299.00   \n",
       "2                                             1                    0  516.85   \n",
       "3                                             4                    1  232.90   \n",
       "4                                             1                    1   67.98   \n",
       "5                                             1                    1  113.22   \n",
       "6                                             1                    1  159.99   \n",
       "7                                             7                    1  229.00   \n",
       "8                                            28                    1  241.98   \n",
       "9                                            36                    1  125.36   \n",
       "\n",
       "   quantity                                     cleaned_titles  \\\n",
       "0        23          educational support english learners home   \n",
       "1         1                   wanted projector hungry learners   \n",
       "2        22    soccer equipment awesome middle school students   \n",
       "3         4                             techie kindergarteners   \n",
       "4         4                             interactive math tools   \n",
       "5        11  flexible seating mrs jarvis terrific third gra...   \n",
       "6         3      chromebooks special education reading program   \n",
       "7         4                                       21st century   \n",
       "8         6                            targeting success class   \n",
       "9        14                         love reading pure pleasure   \n",
       "\n",
       "                                      cleaned_essays  \\\n",
       "0  students english learners working english seco...   \n",
       "1  students arrive school eager learn polite gene...   \n",
       "2  true champions not always ones win guts mia ha...   \n",
       "3  work unique school filled esl english second l...   \n",
       "4  second grade classroom next year made around 2...   \n",
       "5  moving 2nd grade 3rd grade beginning next scho...   \n",
       "6  students dynamic energetic group middle school...   \n",
       "7  not students struggle poverty also learning ma...   \n",
       "8  students enthusiastic inquisitive learners k 6...   \n",
       "9  95 students free reduced lunch homeless despit...   \n",
       "\n",
       "                                     cleaned_summary  isdigit_summary  \n",
       "0  students_need_opportunities_practice_beginning...                0  \n",
       "1  students_need_projector_help_viewing_education...                0  \n",
       "2  students_need_shine_guards_athletic_socks_socc...                0  \n",
       "3  students_need_engage_reading_math_way_inspire_...                0  \n",
       "4  students_need_hands_practice_mathematics_fun_p...                0  \n",
       "5  students_need_movement_successful_variety_stud...                0  \n",
       "6  students_need_dependable_laptops_daily_classro...                0  \n",
       "7  students_need_ipads_help_access_world_online_r...                0  \n",
       "8  students_need_three_devices_three_management_l...                0  \n",
       "9  students_need_great_books_use_independent_read...                0  "
      ]
     },
     "execution_count": 46,
     "metadata": {},
     "output_type": "execute_result"
    }
   ],
   "source": [
    "dataset.head(10)"
   ]
  },
  {
   "cell_type": "code",
   "execution_count": 47,
   "metadata": {},
   "outputs": [
    {
     "data": {
      "text/plain": [
       "(109248, 14)"
      ]
     },
     "execution_count": 47,
     "metadata": {},
     "output_type": "execute_result"
    }
   ],
   "source": [
    "dataset.shape"
   ]
  },
  {
   "cell_type": "markdown",
   "metadata": {},
   "source": [
    "### There are 109248 rows and 14 columns in the datset"
   ]
  },
  {
   "cell_type": "markdown",
   "metadata": {},
   "source": [
    " "
   ]
  },
  {
   "cell_type": "code",
   "execution_count": 48,
   "metadata": {},
   "outputs": [
    {
     "data": {
      "text/html": [
       "<div>\n",
       "<style scoped>\n",
       "    .dataframe tbody tr th:only-of-type {\n",
       "        vertical-align: middle;\n",
       "    }\n",
       "\n",
       "    .dataframe tbody tr th {\n",
       "        vertical-align: top;\n",
       "    }\n",
       "\n",
       "    .dataframe thead th {\n",
       "        text-align: right;\n",
       "    }\n",
       "</style>\n",
       "<table border=\"1\" class=\"dataframe\">\n",
       "  <thead>\n",
       "    <tr style=\"text-align: right;\">\n",
       "      <th></th>\n",
       "      <th>teacher_number_of_previously_posted_projects</th>\n",
       "      <th>project_is_approved</th>\n",
       "      <th>price</th>\n",
       "      <th>quantity</th>\n",
       "      <th>isdigit_summary</th>\n",
       "    </tr>\n",
       "  </thead>\n",
       "  <tbody>\n",
       "    <tr>\n",
       "      <th>count</th>\n",
       "      <td>109248.000000</td>\n",
       "      <td>109248.000000</td>\n",
       "      <td>109248.000000</td>\n",
       "      <td>109248.000000</td>\n",
       "      <td>109248.000000</td>\n",
       "    </tr>\n",
       "    <tr>\n",
       "      <th>mean</th>\n",
       "      <td>11.153165</td>\n",
       "      <td>0.848583</td>\n",
       "      <td>298.119343</td>\n",
       "      <td>16.965610</td>\n",
       "      <td>0.144222</td>\n",
       "    </tr>\n",
       "    <tr>\n",
       "      <th>std</th>\n",
       "      <td>27.777154</td>\n",
       "      <td>0.358456</td>\n",
       "      <td>367.498030</td>\n",
       "      <td>26.182942</td>\n",
       "      <td>0.351317</td>\n",
       "    </tr>\n",
       "    <tr>\n",
       "      <th>min</th>\n",
       "      <td>0.000000</td>\n",
       "      <td>0.000000</td>\n",
       "      <td>0.660000</td>\n",
       "      <td>1.000000</td>\n",
       "      <td>0.000000</td>\n",
       "    </tr>\n",
       "    <tr>\n",
       "      <th>25%</th>\n",
       "      <td>0.000000</td>\n",
       "      <td>1.000000</td>\n",
       "      <td>104.310000</td>\n",
       "      <td>4.000000</td>\n",
       "      <td>0.000000</td>\n",
       "    </tr>\n",
       "    <tr>\n",
       "      <th>50%</th>\n",
       "      <td>2.000000</td>\n",
       "      <td>1.000000</td>\n",
       "      <td>206.220000</td>\n",
       "      <td>9.000000</td>\n",
       "      <td>0.000000</td>\n",
       "    </tr>\n",
       "    <tr>\n",
       "      <th>75%</th>\n",
       "      <td>9.000000</td>\n",
       "      <td>1.000000</td>\n",
       "      <td>379.000000</td>\n",
       "      <td>21.000000</td>\n",
       "      <td>0.000000</td>\n",
       "    </tr>\n",
       "    <tr>\n",
       "      <th>max</th>\n",
       "      <td>451.000000</td>\n",
       "      <td>1.000000</td>\n",
       "      <td>9999.000000</td>\n",
       "      <td>930.000000</td>\n",
       "      <td>1.000000</td>\n",
       "    </tr>\n",
       "  </tbody>\n",
       "</table>\n",
       "</div>"
      ],
      "text/plain": [
       "       teacher_number_of_previously_posted_projects  project_is_approved  \\\n",
       "count                                 109248.000000        109248.000000   \n",
       "mean                                      11.153165             0.848583   \n",
       "std                                       27.777154             0.358456   \n",
       "min                                        0.000000             0.000000   \n",
       "25%                                        0.000000             1.000000   \n",
       "50%                                        2.000000             1.000000   \n",
       "75%                                        9.000000             1.000000   \n",
       "max                                      451.000000             1.000000   \n",
       "\n",
       "               price       quantity  isdigit_summary  \n",
       "count  109248.000000  109248.000000    109248.000000  \n",
       "mean      298.119343      16.965610         0.144222  \n",
       "std       367.498030      26.182942         0.351317  \n",
       "min         0.660000       1.000000         0.000000  \n",
       "25%       104.310000       4.000000         0.000000  \n",
       "50%       206.220000       9.000000         0.000000  \n",
       "75%       379.000000      21.000000         0.000000  \n",
       "max      9999.000000     930.000000         1.000000  "
      ]
     },
     "execution_count": 48,
     "metadata": {},
     "output_type": "execute_result"
    }
   ],
   "source": [
    "dataset.describe()"
   ]
  },
  {
   "cell_type": "code",
   "execution_count": 49,
   "metadata": {},
   "outputs": [
    {
     "name": "stdout",
     "output_type": "stream",
     "text": [
      "<class 'pandas.core.frame.DataFrame'>\n",
      "RangeIndex: 109248 entries, 0 to 109247\n",
      "Data columns (total 14 columns):\n",
      " #   Column                                        Non-Null Count   Dtype  \n",
      "---  ------                                        --------------   -----  \n",
      " 0   id                                            109248 non-null  object \n",
      " 1   teacher_prefix                                109248 non-null  object \n",
      " 2   school_state                                  109248 non-null  object \n",
      " 3   project_grade_category                        109248 non-null  object \n",
      " 4   project_subject_categories                    109248 non-null  object \n",
      " 5   project_subject_subcategories                 109248 non-null  object \n",
      " 6   teacher_number_of_previously_posted_projects  109248 non-null  int64  \n",
      " 7   project_is_approved                           109248 non-null  int64  \n",
      " 8   price                                         109248 non-null  float64\n",
      " 9   quantity                                      109248 non-null  int64  \n",
      " 10  cleaned_titles                                109205 non-null  object \n",
      " 11  cleaned_essays                                109248 non-null  object \n",
      " 12  cleaned_summary                               109248 non-null  object \n",
      " 13  isdigit_summary                               109248 non-null  int64  \n",
      "dtypes: float64(1), int64(4), object(9)\n",
      "memory usage: 11.7+ MB\n"
     ]
    }
   ],
   "source": [
    "dataset.info()"
   ]
  },
  {
   "cell_type": "markdown",
   "metadata": {},
   "source": [
    "### Identify independent/target variables\n"
   ]
  },
  {
   "cell_type": "code",
   "execution_count": 50,
   "metadata": {},
   "outputs": [
    {
     "data": {
      "text/plain": [
       "id                                              109248\n",
       "teacher_prefix                                       5\n",
       "school_state                                        51\n",
       "project_grade_category                               4\n",
       "project_subject_categories                          51\n",
       "project_subject_subcategories                      401\n",
       "teacher_number_of_previously_posted_projects       374\n",
       "project_is_approved                                  2\n",
       "price                                            45242\n",
       "quantity                                           332\n",
       "cleaned_titles                                   91442\n",
       "cleaned_essays                                  108314\n",
       "cleaned_summary                                 107885\n",
       "isdigit_summary                                      2\n",
       "dtype: int64"
      ]
     },
     "execution_count": 50,
     "metadata": {},
     "output_type": "execute_result"
    }
   ],
   "source": [
    "dataset.nunique()"
   ]
  },
  {
   "cell_type": "markdown",
   "metadata": {},
   "source": [
    "**Independent variables/features are :**\n",
    "\n",
    "**Categorical attributes -** 'teacher_prefix','school_state','project_grade_category','project_subject_categories', 'project_subject_subcategories','cleaned_titles','cleaned_essays', 'cleaned_summary'\n",
    "\n",
    "**Numberical attributes -**'price','quantity','teacher_number_of_previously_posted_projects', 'isdigit_summaryhj'\n",
    "\n",
    "**Identified dependent/target variable is 'project is approved'**"
   ]
  },
  {
   "cell_type": "markdown",
   "metadata": {},
   "source": [
    "  "
   ]
  },
  {
   "cell_type": "markdown",
   "metadata": {},
   "source": [
    "### Univariate analysis on target variable "
   ]
  },
  {
   "cell_type": "code",
   "execution_count": 51,
   "metadata": {},
   "outputs": [
    {
     "data": {
      "image/png": "[encoded data removed]",
      "text/plain": [
       "<Figure size 432x288 with 1 Axes>"
      ]
     },
     "metadata": {
      "needs_background": "light"
     },
     "output_type": "display_data"
    }
   ],
   "source": [
    "dataset['project_is_approved'].value_counts().plot.bar()\n",
    "plt.xlabel(\"Approved/Rejected\", labelpad=14)\n",
    "plt.ylabel(\"Count\", labelpad=14)\n",
    "plt.title(\"Count of approved/ rejected projects\", y=1.02);\n"
   ]
  },
  {
   "cell_type": "markdown",
   "metadata": {},
   "source": [
    "# **Around 91 percent of dataset consist 1 (Project approved) and 9 percent contains 0(Project rejected). So it is a imbalance class problem**"
   ]
  },
  {
   "cell_type": "markdown",
   "metadata": {},
   "source": [
    "### Univariate analysis on categorical independent variables"
   ]
  },
  {
   "cell_type": "code",
   "execution_count": 52,
   "metadata": {},
   "outputs": [
    {
     "data": {
      "image/png": "[encoded data removed]",
      "text/plain": [
       "<Figure size 1440x720 with 2 Axes>"
      ]
     },
     "metadata": {
      "needs_background": "light"
     },
     "output_type": "display_data"
    }
   ],
   "source": [
    "plt.figure(2)\n",
    "plt.subplot(121)\n",
    "dataset['teacher_prefix'].value_counts(normalize=True).plot.bar(figsize=(20,10),title= 'Teacher prefix')\n",
    "plt.xlabel(\"Teacher prefix\", labelpad=14)\n",
    "plt.ylabel(\"Fraction\", labelpad=10)\n",
    "plt.subplot(122)\n",
    "dataset['school_state'].value_counts(normalize=True).plot.bar(title= 'State of school')\n",
    "plt.xlabel(\"State of school\", labelpad=10)\n",
    "plt.ylabel(\"Fraction\", labelpad=14)\n",
    "plt.subplots_adjust(left=0.1,\n",
    "                    bottom=0.1, \n",
    "                    right=0.9, \n",
    "                    top=1, \n",
    "                    wspace=0.4, \n",
    "                    hspace=0.4)\n",
    "plt.show()"
   ]
  },
  {
   "cell_type": "markdown",
   "metadata": {},
   "source": [
    "**Data is not uniformally distributed. Lot portion of feature values are coming from 2-3 values of features**\n",
    "\n",
    "    Teacher prefix : Around 53% teachers use prefix mrs, and 34% uses prefic ms. \n",
    "\n",
    "    State of school: Around 14% of school state is ca, 7 percent is tx and 6.5% in ny\n"
   ]
  },
  {
   "cell_type": "markdown",
   "metadata": {},
   "source": [
    "### 5. Univariate analysis on numerical independent variables"
   ]
  },
  {
   "cell_type": "code",
   "execution_count": 53,
   "metadata": {},
   "outputs": [
    {
     "data": {
      "image/png": "[encoded data removed]",
      "text/plain": [
       "<Figure size 1080x360 with 2 Axes>"
      ]
     },
     "metadata": {
      "needs_background": "light"
     },
     "output_type": "display_data"
    }
   ],
   "source": [
    "plt.figure(2)\n",
    "plt.subplot(121)\n",
    "dataset['price'].plot.box(figsize=(15,5))\n",
    "plt.subplot(122)\n",
    "sns.histplot(data=dataset,x='price',log_scale=True,kde=True)\n",
    "plt.xlabel(\"price log scale\", labelpad=10)\n",
    "plt.show()"
   ]
  },
  {
   "cell_type": "markdown",
   "metadata": {},
   "source": [
    "**Outliers are detected in 'price' features.**\n",
    "From the second chart it can be stated that taking the log of feature can normalize the feature 'price'. "
   ]
  },
  {
   "cell_type": "code",
   "execution_count": 54,
   "metadata": {},
   "outputs": [
    {
     "data": {
      "image/png": "[encoded data removed]",
      "text/plain": [
       "<Figure size 1080x360 with 2 Axes>"
      ]
     },
     "metadata": {
      "needs_background": "light"
     },
     "output_type": "display_data"
    }
   ],
   "source": [
    "plt.figure(3)\n",
    "plt.subplot(121)\n",
    "dataset['quantity'].plot.box(figsize=(15,5))\n",
    "plt.subplot(122)\n",
    "sns.histplot(data=dataset,x='quantity',log_scale=True,kde=True)\n",
    "plt.xlabel(\"quantity log scale\", labelpad=10)\n",
    "plt.show()"
   ]
  },
  {
   "cell_type": "markdown",
   "metadata": {},
   "source": [
    "**Outliers are detected in 'quantity' features.**\n",
    "From the second chart it can be stated that taking the log of feature can't normalize the feature 'quantity'."
   ]
  },
  {
   "cell_type": "code",
   "execution_count": 55,
   "metadata": {},
   "outputs": [
    {
     "data": {
      "image/png": "[encoded data removed]",
      "text/plain": [
       "<Figure size 1080x360 with 2 Axes>"
      ]
     },
     "metadata": {
      "needs_background": "light"
     },
     "output_type": "display_data"
    }
   ],
   "source": [
    "plt.figure(4)\n",
    "plt.subplot(121)\n",
    "dataset['teacher_number_of_previously_posted_projects'].plot.box(figsize=(15,5))\n",
    "plt.subplot(122)\n",
    "sns.histplot(data=dataset,x='teacher_number_of_previously_posted_projects',bins=5)\n",
    "plt.xlabel(\"Teacher number of previously posted projects log scale\", labelpad=50)\n",
    "plt.show()"
   ]
  },
  {
   "cell_type": "code",
   "execution_count": 56,
   "metadata": {},
   "outputs": [
    {
     "data": {
      "image/png": "[encoded data removed]",
      "text/plain": [
       "<Figure size 432x288 with 1 Axes>"
      ]
     },
     "metadata": {
      "needs_background": "light"
     },
     "output_type": "display_data"
    }
   ],
   "source": [
    "plt.figure(4)\n",
    "sns.histplot(data=dataset,x='teacher_number_of_previously_posted_projects',bins=[0,10,20,50,100,200,300,400,500])\n",
    "plt.xlabel(\"Teacher number of previously posted projects log scale\", labelpad=50)\n",
    "plt.show()"
   ]
  },
  {
   "cell_type": "markdown",
   "metadata": {},
   "source": [
    "### Most of the values are coming from a single bin,  So data is skewed for teacher_number_of_previously_posted_projects"
   ]
  },
  {
   "cell_type": "code",
   "execution_count": 57,
   "metadata": {},
   "outputs": [
    {
     "data": {
      "image/png": "[encoded data removed]",
      "text/plain": [
       "<Figure size 432x288 with 1 Axes>"
      ]
     },
     "metadata": {
      "needs_background": "light"
     },
     "output_type": "display_data"
    }
   ],
   "source": [
    "dataset['isdigit_summary'].value_counts(normalize=True).plot.bar()\n",
    "plt.xlabel(\"IsdigitSummary\", labelpad=14)\n",
    "plt.ylabel(\"Fraction\", labelpad=14)\n",
    "plt.title(\"Is digit summary\", y=1.02);\n"
   ]
  },
  {
   "cell_type": "markdown",
   "metadata": {},
   "source": [
    "### For isdigitSummary also the dataset is imbalaned, more than 80% of the values are 0 "
   ]
  },
  {
   "cell_type": "markdown",
   "metadata": {},
   "source": [
    "### Analysis for categorical features vs target feature"
   ]
  },
  {
   "cell_type": "code",
   "execution_count": 58,
   "metadata": {},
   "outputs": [
    {
     "data": {
      "image/png": "[encoded data removed]",
      "text/plain": [
       "<Figure size 288x288 with 1 Axes>"
      ]
     },
     "metadata": {
      "needs_background": "light"
     },
     "output_type": "display_data"
    }
   ],
   "source": [
    "repeat_retailer = pd.crosstab(dataset['teacher_prefix'],dataset['project_is_approved'])\n",
    "repeat_retailer.div(repeat_retailer.sum(1).astype(float),axis=0).plot(kind='bar',stacked=True,figsize=(4,4))\n",
    "plt.xlabel(\"Teacher prefix\", labelpad=14)\n",
    "plt.ylabel(\"Project is approved\", labelpad=14)\n",
    "plt.title(\"Fraction of projects approved/rejected per teacher prefix\", y=1.02);"
   ]
  },
  {
   "cell_type": "markdown",
   "metadata": {},
   "source": [
    "### 35% of values have prefix 'dr', 25% of values have prefix 'teacher' and rest are divided in 'mr', 'mrs' or 'ms'."
   ]
  },
  {
   "cell_type": "code",
   "execution_count": 59,
   "metadata": {},
   "outputs": [
    {
     "data": {
      "image/png": "[encoded data removed]",
      "text/plain": [
       "<Figure size 1440x576 with 1 Axes>"
      ]
     },
     "metadata": {
      "needs_background": "light"
     },
     "output_type": "display_data"
    }
   ],
   "source": [
    "used_chip = pd.crosstab(dataset['school_state'],dataset['project_is_approved'])\n",
    "used_chip.div(used_chip.sum(1).astype(float),axis=0).plot(kind='bar',stacked=True,figsize=(20,8))\n",
    "plt.xlabel(\"State\", labelpad=14)\n",
    "plt.ylabel(\"Fraction\", labelpad=14)\n",
    "plt.title(\"Fraction of projects approved/rejected per state\", y=1.02);"
   ]
  },
  {
   "cell_type": "markdown",
   "metadata": {},
   "source": [
    "### Project approval is consistent across states. So state is balanced wrt the project approval"
   ]
  },
  {
   "cell_type": "markdown",
   "metadata": {},
   "source": [
    "## Analysis for price vs target feature"
   ]
  },
  {
   "cell_type": "code",
   "execution_count": 60,
   "metadata": {},
   "outputs": [
    {
     "data": {
      "text/plain": [
       "<Figure size 432x288 with 0 Axes>"
      ]
     },
     "metadata": {},
     "output_type": "display_data"
    },
    {
     "data": {
      "image/png": "[encoded data removed]",
      "text/plain": [
       "<Figure size 720x360 with 1 Axes>"
      ]
     },
     "metadata": {
      "needs_background": "light"
     },
     "output_type": "display_data"
    }
   ],
   "source": [
    "dataset_bin = dataset.copy()\n",
    "ibin=[0,1000,2000,4000,8000]\n",
    "group=['Low','Average','High','Very_high']\n",
    "dataset_bin['ibin']=pd.cut(dataset_bin['price'],ibin,labels=group)\n",
    "\n",
    "ct1=pd.crosstab(dataset_bin['ibin'],dataset_bin['project_is_approved'])\n",
    "\n",
    "plt.figure(5)\n",
    "ct1.div(ct1.sum(1).astype(float),axis=0).plot(kind=\"bar\",stacked=True,figsize=(10,5))\n",
    "plt.xlabel(\"Price\", labelpad=14)\n",
    "plt.ylabel(\"project_is_approved\", labelpad=14)\n",
    "plt.title(\"project_is_approved as price increases\", y=1.02);\n",
    "plt.show()\n",
    "\n"
   ]
  },
  {
   "cell_type": "markdown",
   "metadata": {},
   "source": [
    "### Project approval is consistent with increase in income."
   ]
  },
  {
   "cell_type": "markdown",
   "metadata": {},
   "source": [
    "## 8. Correlation analysis"
   ]
  },
  {
   "cell_type": "code",
   "execution_count": 61,
   "metadata": {},
   "outputs": [
    {
     "data": {
      "text/html": [
       "<div>\n",
       "<style scoped>\n",
       "    .dataframe tbody tr th:only-of-type {\n",
       "        vertical-align: middle;\n",
       "    }\n",
       "\n",
       "    .dataframe tbody tr th {\n",
       "        vertical-align: top;\n",
       "    }\n",
       "\n",
       "    .dataframe thead th {\n",
       "        text-align: right;\n",
       "    }\n",
       "</style>\n",
       "<table border=\"1\" class=\"dataframe\">\n",
       "  <thead>\n",
       "    <tr style=\"text-align: right;\">\n",
       "      <th></th>\n",
       "      <th>teacher_number_of_previously_posted_projects</th>\n",
       "      <th>project_is_approved</th>\n",
       "      <th>price</th>\n",
       "      <th>quantity</th>\n",
       "      <th>isdigit_summary</th>\n",
       "    </tr>\n",
       "  </thead>\n",
       "  <tbody>\n",
       "    <tr>\n",
       "      <th>teacher_number_of_previously_posted_projects</th>\n",
       "      <td>1.000000</td>\n",
       "      <td>0.064854</td>\n",
       "      <td>-0.007157</td>\n",
       "      <td>0.003790</td>\n",
       "      <td>0.030226</td>\n",
       "    </tr>\n",
       "    <tr>\n",
       "      <th>project_is_approved</th>\n",
       "      <td>0.064854</td>\n",
       "      <td>1.000000</td>\n",
       "      <td>-0.071069</td>\n",
       "      <td>-0.052024</td>\n",
       "      <td>0.052315</td>\n",
       "    </tr>\n",
       "    <tr>\n",
       "      <th>price</th>\n",
       "      <td>-0.007157</td>\n",
       "      <td>-0.071069</td>\n",
       "      <td>1.000000</td>\n",
       "      <td>-0.081868</td>\n",
       "      <td>-0.001527</td>\n",
       "    </tr>\n",
       "    <tr>\n",
       "      <th>quantity</th>\n",
       "      <td>0.003790</td>\n",
       "      <td>-0.052024</td>\n",
       "      <td>-0.081868</td>\n",
       "      <td>1.000000</td>\n",
       "      <td>-0.048123</td>\n",
       "    </tr>\n",
       "    <tr>\n",
       "      <th>isdigit_summary</th>\n",
       "      <td>0.030226</td>\n",
       "      <td>0.052315</td>\n",
       "      <td>-0.001527</td>\n",
       "      <td>-0.048123</td>\n",
       "      <td>1.000000</td>\n",
       "    </tr>\n",
       "  </tbody>\n",
       "</table>\n",
       "</div>"
      ],
      "text/plain": [
       "                                              teacher_number_of_previously_posted_projects  \\\n",
       "teacher_number_of_previously_posted_projects                                      1.000000   \n",
       "project_is_approved                                                               0.064854   \n",
       "price                                                                            -0.007157   \n",
       "quantity                                                                          0.003790   \n",
       "isdigit_summary                                                                   0.030226   \n",
       "\n",
       "                                              project_is_approved     price  \\\n",
       "teacher_number_of_previously_posted_projects             0.064854 -0.007157   \n",
       "project_is_approved                                      1.000000 -0.071069   \n",
       "price                                                   -0.071069  1.000000   \n",
       "quantity                                                -0.052024 -0.081868   \n",
       "isdigit_summary                                          0.052315 -0.001527   \n",
       "\n",
       "                                              quantity  isdigit_summary  \n",
       "teacher_number_of_previously_posted_projects  0.003790         0.030226  \n",
       "project_is_approved                          -0.052024         0.052315  \n",
       "price                                        -0.081868        -0.001527  \n",
       "quantity                                      1.000000        -0.048123  \n",
       "isdigit_summary                              -0.048123         1.000000  "
      ]
     },
     "execution_count": 61,
     "metadata": {},
     "output_type": "execute_result"
    }
   ],
   "source": [
    "matrix = dataset.corr() \n",
    "matrix"
   ]
  },
  {
   "cell_type": "code",
   "execution_count": 62,
   "metadata": {},
   "outputs": [
    {
     "data": {
      "text/plain": [
       "<AxesSubplot:>"
      ]
     },
     "execution_count": 62,
     "metadata": {},
     "output_type": "execute_result"
    },
    {
     "data": {
      "image/png": "[encoded data removed]",
      "text/plain": [
       "<Figure size 432x288 with 2 Axes>"
      ]
     },
     "metadata": {
      "needs_background": "light"
     },
     "output_type": "display_data"
    }
   ],
   "source": [
    "sns.heatmap(matrix,vmax=0.8,square=True,cmap=\"BuPu\")"
   ]
  },
  {
   "cell_type": "markdown",
   "metadata": {},
   "source": [
    "### There is no major correlations beween numerical features"
   ]
  },
  {
   "cell_type": "markdown",
   "metadata": {},
   "source": [
    "## A3. Data preparation"
   ]
  },
  {
   "cell_type": "code",
   "execution_count": 63,
   "metadata": {},
   "outputs": [
    {
     "data": {
      "text/plain": [
       "False    109248\n",
       "dtype: int64"
      ]
     },
     "execution_count": 63,
     "metadata": {},
     "output_type": "execute_result"
    }
   ],
   "source": [
    "dataset.duplicated().value_counts()"
   ]
  },
  {
   "cell_type": "markdown",
   "metadata": {},
   "source": [
    "**No duplicate row detected**"
   ]
  },
  {
   "cell_type": "code",
   "execution_count": 64,
   "metadata": {},
   "outputs": [
    {
     "data": {
      "text/plain": [
       "id                                               0\n",
       "teacher_prefix                                   0\n",
       "school_state                                     0\n",
       "project_grade_category                           0\n",
       "project_subject_categories                       0\n",
       "project_subject_subcategories                    0\n",
       "teacher_number_of_previously_posted_projects     0\n",
       "project_is_approved                              0\n",
       "price                                            0\n",
       "quantity                                         0\n",
       "cleaned_titles                                  43\n",
       "cleaned_essays                                   0\n",
       "cleaned_summary                                  0\n",
       "isdigit_summary                                  0\n",
       "dtype: int64"
      ]
     },
     "execution_count": 64,
     "metadata": {},
     "output_type": "execute_result"
    }
   ],
   "source": [
    "dataset.isnull().sum()"
   ]
  },
  {
   "cell_type": "markdown",
   "metadata": {},
   "source": [
    "### Missing values are present in cleaned_title feature"
   ]
  },
  {
   "cell_type": "markdown",
   "metadata": {},
   "source": [
    "## Missing value treatment"
   ]
  },
  {
   "cell_type": "code",
   "execution_count": 65,
   "metadata": {},
   "outputs": [],
   "source": [
    "dataset['cleaned_titles'] = dataset['cleaned_titles'].fillna('NOTKNOWN')"
   ]
  },
  {
   "cell_type": "markdown",
   "metadata": {},
   "source": [
    "### Outliers Treatment\n",
    "Outliers were deletected in the univariate analysis of the numberical attributes. Also we have seen that taking the log of the data can make these attributes normally distributed"
   ]
  },
  {
   "cell_type": "code",
   "execution_count": 66,
   "metadata": {},
   "outputs": [],
   "source": [
    "dataset['price'] = np.log(dataset['price'])\n",
    "dataset['quantity'] = np.sqrt(dataset['quantity'])\n",
    "dataset['teacher_number_of_previously_posted_projects'] = np.sqrt(dataset['teacher_number_of_previously_posted_projects'])"
   ]
  },
  {
   "cell_type": "code",
   "execution_count": 67,
   "metadata": {},
   "outputs": [
    {
     "data": {
      "image/png": "[encoded data removed]",
      "text/plain": [
       "<Figure size 1080x360 with 2 Axes>"
      ]
     },
     "metadata": {
      "needs_background": "light"
     },
     "output_type": "display_data"
    },
    {
     "data": {
      "image/png": "[encoded data removed]",
      "text/plain": [
       "<Figure size 432x288 with 1 Axes>"
      ]
     },
     "metadata": {
      "needs_background": "light"
     },
     "output_type": "display_data"
    }
   ],
   "source": [
    "plt.figure(8)\n",
    "plt.subplot(221)\n",
    "dataset['price'].hist(bins=20,figsize=(15,5))\n",
    "plt.subplot(222)\n",
    "dataset['quantity'].hist(bins=20)\n",
    "plt.show()\n",
    "plt.subplot(223)\n",
    "dataset['teacher_number_of_previously_posted_projects'].hist(bins=20)\n",
    "plt.show()"
   ]
  },
  {
   "cell_type": "code",
   "execution_count": 68,
   "metadata": {},
   "outputs": [],
   "source": [
    "# Remove ID\n",
    "dataset.drop('id', axis=1, inplace=True)"
   ]
  },
  {
   "cell_type": "code",
   "execution_count": 69,
   "metadata": {},
   "outputs": [
    {
     "data": {
      "text/html": [
       "<div>\n",
       "<style scoped>\n",
       "    .dataframe tbody tr th:only-of-type {\n",
       "        vertical-align: middle;\n",
       "    }\n",
       "\n",
       "    .dataframe tbody tr th {\n",
       "        vertical-align: top;\n",
       "    }\n",
       "\n",
       "    .dataframe thead th {\n",
       "        text-align: right;\n",
       "    }\n",
       "</style>\n",
       "<table border=\"1\" class=\"dataframe\">\n",
       "  <thead>\n",
       "    <tr style=\"text-align: right;\">\n",
       "      <th></th>\n",
       "      <th>teacher_number_of_previously_posted_projects</th>\n",
       "      <th>project_is_approved</th>\n",
       "      <th>price</th>\n",
       "      <th>quantity</th>\n",
       "      <th>cleaned_titles</th>\n",
       "      <th>cleaned_essays</th>\n",
       "      <th>cleaned_summary</th>\n",
       "      <th>isdigit_summary</th>\n",
       "      <th>teacher_prefix_mr</th>\n",
       "      <th>teacher_prefix_mrs</th>\n",
       "      <th>...</th>\n",
       "      <th>project_subject_subcategories_socialsciences_visualarts</th>\n",
       "      <th>project_subject_subcategories_specialneeds</th>\n",
       "      <th>project_subject_subcategories_specialneeds_teamsports</th>\n",
       "      <th>project_subject_subcategories_specialneeds_visualarts</th>\n",
       "      <th>project_subject_subcategories_specialneeds_warmth_care_hunger</th>\n",
       "      <th>project_subject_subcategories_teamsports</th>\n",
       "      <th>project_subject_subcategories_teamsports_visualarts</th>\n",
       "      <th>project_subject_subcategories_visualarts</th>\n",
       "      <th>project_subject_subcategories_visualarts_warmth_care_hunger</th>\n",
       "      <th>project_subject_subcategories_warmth_care_hunger</th>\n",
       "    </tr>\n",
       "  </thead>\n",
       "  <tbody>\n",
       "    <tr>\n",
       "      <th>0</th>\n",
       "      <td>0.000000</td>\n",
       "      <td>0</td>\n",
       "      <td>5.040841</td>\n",
       "      <td>4.795832</td>\n",
       "      <td>educational support english learners home</td>\n",
       "      <td>students english learners working english seco...</td>\n",
       "      <td>students_need_opportunities_practice_beginning...</td>\n",
       "      <td>0</td>\n",
       "      <td>0</td>\n",
       "      <td>1</td>\n",
       "      <td>...</td>\n",
       "      <td>0</td>\n",
       "      <td>0</td>\n",
       "      <td>0</td>\n",
       "      <td>0</td>\n",
       "      <td>0</td>\n",
       "      <td>0</td>\n",
       "      <td>0</td>\n",
       "      <td>0</td>\n",
       "      <td>0</td>\n",
       "      <td>0</td>\n",
       "    </tr>\n",
       "    <tr>\n",
       "      <th>1</th>\n",
       "      <td>2.645751</td>\n",
       "      <td>1</td>\n",
       "      <td>5.700444</td>\n",
       "      <td>1.000000</td>\n",
       "      <td>wanted projector hungry learners</td>\n",
       "      <td>students arrive school eager learn polite gene...</td>\n",
       "      <td>students_need_projector_help_viewing_education...</td>\n",
       "      <td>0</td>\n",
       "      <td>1</td>\n",
       "      <td>0</td>\n",
       "      <td>...</td>\n",
       "      <td>0</td>\n",
       "      <td>0</td>\n",
       "      <td>0</td>\n",
       "      <td>0</td>\n",
       "      <td>0</td>\n",
       "      <td>0</td>\n",
       "      <td>0</td>\n",
       "      <td>0</td>\n",
       "      <td>0</td>\n",
       "      <td>0</td>\n",
       "    </tr>\n",
       "    <tr>\n",
       "      <th>2</th>\n",
       "      <td>1.000000</td>\n",
       "      <td>0</td>\n",
       "      <td>6.247753</td>\n",
       "      <td>4.690416</td>\n",
       "      <td>soccer equipment awesome middle school students</td>\n",
       "      <td>true champions not always ones win guts mia ha...</td>\n",
       "      <td>students_need_shine_guards_athletic_socks_socc...</td>\n",
       "      <td>0</td>\n",
       "      <td>0</td>\n",
       "      <td>0</td>\n",
       "      <td>...</td>\n",
       "      <td>0</td>\n",
       "      <td>0</td>\n",
       "      <td>0</td>\n",
       "      <td>0</td>\n",
       "      <td>0</td>\n",
       "      <td>0</td>\n",
       "      <td>0</td>\n",
       "      <td>0</td>\n",
       "      <td>0</td>\n",
       "      <td>0</td>\n",
       "    </tr>\n",
       "    <tr>\n",
       "      <th>3</th>\n",
       "      <td>2.000000</td>\n",
       "      <td>1</td>\n",
       "      <td>5.450609</td>\n",
       "      <td>2.000000</td>\n",
       "      <td>techie kindergarteners</td>\n",
       "      <td>work unique school filled esl english second l...</td>\n",
       "      <td>students_need_engage_reading_math_way_inspire_...</td>\n",
       "      <td>0</td>\n",
       "      <td>0</td>\n",
       "      <td>1</td>\n",
       "      <td>...</td>\n",
       "      <td>0</td>\n",
       "      <td>0</td>\n",
       "      <td>0</td>\n",
       "      <td>0</td>\n",
       "      <td>0</td>\n",
       "      <td>0</td>\n",
       "      <td>0</td>\n",
       "      <td>0</td>\n",
       "      <td>0</td>\n",
       "      <td>0</td>\n",
       "    </tr>\n",
       "    <tr>\n",
       "      <th>4</th>\n",
       "      <td>1.000000</td>\n",
       "      <td>1</td>\n",
       "      <td>4.219214</td>\n",
       "      <td>2.000000</td>\n",
       "      <td>interactive math tools</td>\n",
       "      <td>second grade classroom next year made around 2...</td>\n",
       "      <td>students_need_hands_practice_mathematics_fun_p...</td>\n",
       "      <td>0</td>\n",
       "      <td>0</td>\n",
       "      <td>1</td>\n",
       "      <td>...</td>\n",
       "      <td>0</td>\n",
       "      <td>0</td>\n",
       "      <td>0</td>\n",
       "      <td>0</td>\n",
       "      <td>0</td>\n",
       "      <td>0</td>\n",
       "      <td>0</td>\n",
       "      <td>0</td>\n",
       "      <td>0</td>\n",
       "      <td>0</td>\n",
       "    </tr>\n",
       "  </tbody>\n",
       "</table>\n",
       "<p>5 rows × 515 columns</p>\n",
       "</div>"
      ],
      "text/plain": [
       "   teacher_number_of_previously_posted_projects  project_is_approved  \\\n",
       "0                                      0.000000                    0   \n",
       "1                                      2.645751                    1   \n",
       "2                                      1.000000                    0   \n",
       "3                                      2.000000                    1   \n",
       "4                                      1.000000                    1   \n",
       "\n",
       "      price  quantity                                   cleaned_titles  \\\n",
       "0  5.040841  4.795832        educational support english learners home   \n",
       "1  5.700444  1.000000                 wanted projector hungry learners   \n",
       "2  6.247753  4.690416  soccer equipment awesome middle school students   \n",
       "3  5.450609  2.000000                           techie kindergarteners   \n",
       "4  4.219214  2.000000                           interactive math tools   \n",
       "\n",
       "                                      cleaned_essays  \\\n",
       "0  students english learners working english seco...   \n",
       "1  students arrive school eager learn polite gene...   \n",
       "2  true champions not always ones win guts mia ha...   \n",
       "3  work unique school filled esl english second l...   \n",
       "4  second grade classroom next year made around 2...   \n",
       "\n",
       "                                     cleaned_summary  isdigit_summary  \\\n",
       "0  students_need_opportunities_practice_beginning...                0   \n",
       "1  students_need_projector_help_viewing_education...                0   \n",
       "2  students_need_shine_guards_athletic_socks_socc...                0   \n",
       "3  students_need_engage_reading_math_way_inspire_...                0   \n",
       "4  students_need_hands_practice_mathematics_fun_p...                0   \n",
       "\n",
       "   teacher_prefix_mr  teacher_prefix_mrs  ...  \\\n",
       "0                  0                   1  ...   \n",
       "1                  1                   0  ...   \n",
       "2                  0                   0  ...   \n",
       "3                  0                   1  ...   \n",
       "4                  0                   1  ...   \n",
       "\n",
       "   project_subject_subcategories_socialsciences_visualarts  \\\n",
       "0                                                  0         \n",
       "1                                                  0         \n",
       "2                                                  0         \n",
       "3                                                  0         \n",
       "4                                                  0         \n",
       "\n",
       "   project_subject_subcategories_specialneeds  \\\n",
       "0                                           0   \n",
       "1                                           0   \n",
       "2                                           0   \n",
       "3                                           0   \n",
       "4                                           0   \n",
       "\n",
       "   project_subject_subcategories_specialneeds_teamsports  \\\n",
       "0                                                  0       \n",
       "1                                                  0       \n",
       "2                                                  0       \n",
       "3                                                  0       \n",
       "4                                                  0       \n",
       "\n",
       "   project_subject_subcategories_specialneeds_visualarts  \\\n",
       "0                                                  0       \n",
       "1                                                  0       \n",
       "2                                                  0       \n",
       "3                                                  0       \n",
       "4                                                  0       \n",
       "\n",
       "   project_subject_subcategories_specialneeds_warmth_care_hunger  \\\n",
       "0                                                  0               \n",
       "1                                                  0               \n",
       "2                                                  0               \n",
       "3                                                  0               \n",
       "4                                                  0               \n",
       "\n",
       "   project_subject_subcategories_teamsports  \\\n",
       "0                                         0   \n",
       "1                                         0   \n",
       "2                                         0   \n",
       "3                                         0   \n",
       "4                                         0   \n",
       "\n",
       "   project_subject_subcategories_teamsports_visualarts  \\\n",
       "0                                                  0     \n",
       "1                                                  0     \n",
       "2                                                  0     \n",
       "3                                                  0     \n",
       "4                                                  0     \n",
       "\n",
       "   project_subject_subcategories_visualarts  \\\n",
       "0                                         0   \n",
       "1                                         0   \n",
       "2                                         0   \n",
       "3                                         0   \n",
       "4                                         0   \n",
       "\n",
       "   project_subject_subcategories_visualarts_warmth_care_hunger  \\\n",
       "0                                                  0             \n",
       "1                                                  0             \n",
       "2                                                  0             \n",
       "3                                                  0             \n",
       "4                                                  0             \n",
       "\n",
       "   project_subject_subcategories_warmth_care_hunger  \n",
       "0                                                 0  \n",
       "1                                                 0  \n",
       "2                                                 0  \n",
       "3                                                 0  \n",
       "4                                                 0  \n",
       "\n",
       "[5 rows x 515 columns]"
      ]
     },
     "execution_count": 69,
     "metadata": {},
     "output_type": "execute_result"
    }
   ],
   "source": [
    "dataset_encoded = pd.get_dummies(dataset, columns=['teacher_prefix','school_state','project_grade_category','project_subject_categories','project_subject_subcategories'], drop_first=True)\n",
    "dataset_encoded.head(5)"
   ]
  },
  {
   "cell_type": "markdown",
   "metadata": {},
   "source": [
    "#### Outliers are treated successfully. Now the distribution is much closer to the normal**"
   ]
  },
  {
   "cell_type": "markdown",
   "metadata": {},
   "source": [
    "## Case 1 . Bow vectorization"
   ]
  },
  {
   "cell_type": "markdown",
   "metadata": {},
   "source": [
    "## We have tried multiple things here \n",
    "### 1. The columns generated were around 72K without any setting which was huge is huge\n",
    "### 2. Due to large column size dataframe, After bow vectorization the dataframe was not fitting into memory ( Unable to allocate 58.9 GiB for an array with shape (109248, 72386) and data type int64)\n",
    "### So we used the pipeline to do the bow vectorization of both the columns in 1 go\n",
    "### Also we have optimised the bow vectorization using the min_df( Remove terms used in less than 10 documents or 0.1% of the documents) and max_df (Remove the terms used in more than 90% of the documents to remove less frequent words"
   ]
  },
  {
   "cell_type": "code",
   "execution_count": 70,
   "metadata": {},
   "outputs": [
    {
     "name": "stdout",
     "output_type": "stream",
     "text": [
      "['000', '10', '100', '11', '12', '12th', '13', '14', '15', '16', '17', '18', '19', '1st', '20', '200', '2016', '2017', '21', '21st', '22', '23', '24', '25', '26', '27', '28', '2nd', '30', '35', '3d', '3rd', '40', '400', '45', '4th', '50', '500', '5th', '60', '600', '6th', '70', '75', '7th', '80', '85', '8th', '90', '95', '98', '99', '9th', 'abilities', 'ability', 'able', 'absolutely', 'abstract', 'academic', 'academically', 'academics', 'academy', 'accelerated', 'acceptance', 'access', 'accessible', 'accommodate', 'accomplish', 'accomplished', 'accomplishments', 'according', 'achieve', 'achievement', 'achieving', 'acquire', 'across', 'act', 'action', 'actions', 'active', 'actively', 'activities', 'activity', 'actual', 'actually', 'adapt', 'add', 'added', 'adding', 'addition', 'additional', 'additionally', 'address', 'adequate', 'adhd', 'adult', 'adults', 'advance', 'advanced', 'advantage', 'adventure', 'adventures', 'affect', 'affluent', 'afford', 'african', 'afternoon', 'age', 'ages', 'ago', 'ahead', 'aid', 'aids', 'aim', 'air', 'alive', 'allow', 'allowed', 'allowing', 'allows', 'almost', 'alone', 'along', 'aloud', 'alouds', 'alphabet', 'already', 'also', 'alternative', 'although', 'always', 'amaze', 'amazed', 'amazing', 'america', 'american', 'americans', 'among', 'amount', 'analysis', 'analyze', 'anchor', 'angeles', 'animal', 'animals', 'another', 'answer', 'answers', 'anxiety', 'anxious', 'anyone', 'anything', 'anywhere', 'ap', 'apart', 'app', 'apple', 'application', 'applications', 'apply', 'applying', 'appreciate', 'appreciated', 'appreciation', 'appreciative', 'approach', 'appropriate', 'appropriately', 'approximately', 'apps', 'area', 'areas', 'around', 'array', 'arrive', 'art', 'articles', 'artist', 'artistic', 'artists', 'arts', 'artwork', 'asian', 'ask', 'asked', 'asking', 'aspect', 'aspects', 'assess', 'assessment', 'assessments', 'asset', 'assigned', 'assignment', 'assignments', 'assist', 'assistance', 'athletes', 'atmosphere', 'attend', 'attendance', 'attended', 'attending', 'attention', 'attitude', 'attitudes', 'audio', 'auditory', 'august', 'authentic', 'author', 'authors', 'autism', 'autistic', 'available', 'average', 'avid', 'award', 'aware', 'awareness', 'away', 'awesome', 'back', 'background', 'backgrounds', 'backpack', 'backpacks', 'bad', 'bag', 'bags', 'balance', 'ball', 'balls', 'band', 'bands', 'barriers', 'base', 'based', 'basic', 'basics', 'basis', 'basketball', 'bean', 'beautiful', 'became', 'become', 'becomes', 'becoming', 'began', 'begin', 'beginning', 'begins', 'behavior', 'behavioral', 'behaviors', 'behind', 'believe', 'beneficial', 'benefit', 'benefits', 'besides', 'best', 'better', 'beyond', 'big', 'bigger', 'biggest', 'bilingual', 'binders', 'bins', 'biology', 'bit', 'black', 'blended', 'blessed', 'block', 'blocks', 'blood', 'blue', 'board', 'boards', 'bodies', 'body', 'book', 'books', 'boost', 'boring', 'born', 'borrow', 'bounce', 'bouncy', 'bound', 'box', 'boxes', 'boys', 'brain', 'brains', 'brand', 'break', 'breakfast', 'breaks', 'bridge', 'bright', 'brilliant', 'bring', 'bringing', 'brings', 'broaden', 'broken', 'bronx', 'brought', 'budget', 'build', 'building', 'builds', 'built', 'bunch', 'bus', 'business', 'busy', 'buy', 'calculators', 'california', 'call', 'called', 'calm', 'calming', 'calories', 'came', 'camera', 'campus', 'cannot', 'capabilities', 'capable', 'capacity', 'capture', 'card', 'cards', 'care', 'cared', 'career', 'careers', 'caring', 'carolina', 'carpet', 'carry', 'cart', 'case', 'cases', 'catch', 'caucasian', 'cause', 'cd', 'celebrate', 'cell', 'center', 'centered', 'centers', 'central', 'century', 'certain', 'certainly', 'chair', 'chairs', 'challenge', 'challenged', 'challenges', 'challenging', 'chance', 'chances', 'change', 'changed', 'changes', 'changing', 'chapter', 'character', 'characters', 'charge', 'chart', 'charter', 'charts', 'check', 'chicago', 'child', 'childhood', 'children', 'choice', 'choices', 'choose', 'choosing', 'chose', 'chosen', 'chrome', 'chromebook', 'chromebooks', 'circle', 'circumstances', 'citizens', 'city', 'class', 'classes', 'classic', 'classified', 'classmates', 'classroom', 'classrooms', 'classwork', 'clean', 'clear', 'clearly', 'clever', 'climate', 'clipboards', 'close', 'closer', 'clothes', 'clothing', 'club', 'clubs', 'co', 'coach', 'code', 'coding', 'cognitive', 'cold', 'collaborate', 'collaborating', 'collaboration', 'collaborative', 'collaboratively', 'collect', 'collection', 'college', 'color', 'colored', 'colorful', 'colors', 'combination', 'combine', 'come', 'comes', 'comfort', 'comfortable', 'comfortably', 'comfy', 'coming', 'commitment', 'committed', 'common', 'communicate', 'communicating', 'communication', 'communities', 'community', 'compare', 'compassion', 'compassionate', 'compete', 'competition', 'competitive', 'complete', 'completed', 'completely', 'completing', 'complex', 'component', 'components', 'composition', 'comprehend', 'comprehension', 'comprised', 'computer', 'computers', 'concentrate', 'concentration', 'concept', 'concepts', 'concrete', 'conditions', 'conducive', 'conduct', 'confidence', 'confident', 'connect', 'connected', 'connecting', 'connection', 'connections', 'consider', 'consideration', 'considered', 'considering', 'consist', 'consistent', 'consistently', 'consists', 'constant', 'constantly', 'construct', 'construction', 'contained', 'content', 'continually', 'continue', 'continued', 'continues', 'continuing', 'continuously', 'contribute', 'control', 'conversation', 'conversations', 'cooking', 'cool', 'cooperation', 'cooperative', 'cooperatively', 'coordination', 'copies', 'copy', 'core', 'corner', 'correct', 'correctly', 'cost', 'could', 'count', 'counting', 'countries', 'country', 'county', 'couple', 'course', 'courses', 'cover', 'covers', 'cozy', 'craft', 'crave', 'crayons', 'create', 'created', 'creates', 'creating', 'creation', 'creations', 'creative', 'creatively', 'creativity', 'crime', 'critical', 'critically', 'cross', 'crucial', 'cultural', 'culturally', 'culture', 'cultures', 'curiosity', 'curious', 'current', 'currently', 'curricular', 'curriculum', 'cushions', 'cut', 'cuts', 'cutting', 'cycle', 'daily', 'dance', 'dancing', 'data', 'date', 'day', 'days', 'deal', 'decide', 'decided', 'decisions', 'decrease', 'dedicated', 'dedication', 'deep', 'deepen', 'deeper', 'deeply', 'definitely', 'delays', 'demand', 'demands', 'demonstrate', 'department', 'depend', 'depth', 'describe', 'deserve', 'deserves', 'deserving', 'design', 'designated', 'designed', 'designing', 'designs', 'desire', 'desk', 'desks', 'desktop', 'desperate', 'desperately', 'despite', 'details', 'determination', 'determine', 'determined', 'develop', 'developed', 'developing', 'development', 'developmental', 'developmentally', 'device', 'devices', 'diagnosed', 'difference', 'differences', 'different', 'differentiate', 'differentiated', 'differentiation', 'differently', 'difficult', 'difficulties', 'difficulty', 'digital', 'direct', 'directed', 'direction', 'directions', 'directly', 'disabilities', 'disability', 'disabled', 'disadvantage', 'disadvantaged', 'discover', 'discovered', 'discoveries', 'discovering', 'discovery', 'discuss', 'discussing', 'discussion', 'discussions', 'disorder', 'disorders', 'display', 'displayed', 'distracted', 'distracting', 'distraction', 'distractions', 'district', 'districts', 'dive', 'diverse', 'diversity', 'doctors', 'document', 'documents', 'donate', 'donated', 'donating', 'donation', 'donations', 'done', 'donor', 'donors', 'donorschoose', 'door', 'doors', 'dr', 'dramatic', 'draw', 'drawing', 'dream', 'dreamers', 'dreams', 'drive', 'driven', 'dry', 'dual', 'due', 'durable', 'duty', 'dynamic', 'eager', 'eagerness', 'earliest', 'early', 'earn', 'earth', 'ease', 'easel', 'easier', 'easily', 'east', 'easy', 'eat', 'eating', 'economic', 'economically', 'ed', 'edit', 'editing', 'educate', 'education', 'educational', 'educator', 'educators', 'effect', 'effective', 'effectively', 'effects', 'efficient', 'efficiently', 'effort', 'efforts', 'eight', 'eighth', 'either', 'ela', 'electronic', 'elementary', 'elements', 'eligible', 'eliminate', 'ell', 'else', 'embrace', 'emotional', 'emotionally', 'emotions', 'empathy', 'emphasis', 'empower', 'empowered', 'empowering', 'enable', 'encounter', 'encourage', 'encouraged', 'encouragement', 'encourages', 'encouraging', 'end', 'endeavors', 'endless', 'ends', 'energetic', 'energy', 'engage', 'engaged', 'engagement', 'engages', 'engaging', 'engineering', 'engineers', 'english', 'enhance', 'enhanced', 'enjoy', 'enjoyable', 'enjoyed', 'enjoying', 'enjoyment', 'enough', 'enrich', 'enriching', 'enrichment', 'enrolled', 'enrollment', 'ensure', 'enter', 'entering', 'enthusiasm', 'enthusiastic', 'entire', 'environment', 'environmental', 'environments', 'envision', 'equal', 'equipment', 'equipped', 'erase', 'erasers', 'escape', 'esl', 'especially', 'essays', 'essential', 'essentials', 'esteem', 'etc', 'ethnic', 'ethnically', 'ethnicities', 'even', 'event', 'events', 'eventually', 'ever', 'every', 'everyday', 'everyone', 'everything', 'everywhere', 'evidence', 'exactly', 'example', 'examples', 'excel', 'excellence', 'excellent', 'exceptional', 'excess', 'excite', 'excited', 'excitement', 'exciting', 'exercise', 'exercises', 'expand', 'expanding', 'expect', 'expectations', 'expected', 'expensive', 'experience', 'experienced', 'experiences', 'experiencing', 'experiment', 'experiments', 'explain', 'exploration', 'explore', 'explorers', 'exploring', 'expose', 'exposed', 'exposing', 'exposure', 'express', 'expressed', 'expression', 'extend', 'extended', 'extra', 'extreme', 'extremely', 'eye', 'eyes', 'fabulous', 'face', 'faced', 'faces', 'facilitate', 'facing', 'fact', 'factors', 'facts', 'fair', 'fall', 'falling', 'familiar', 'families', 'family', 'fantastic', 'far', 'farming', 'fast', 'faster', 'favorite', 'fear', 'features', 'feed', 'feedback', 'feel', 'feeling', 'feelings', 'feels', 'feet', 'felt', 'fiction', 'fidget', 'field', 'fields', 'fifth', 'figure', 'fill', 'filled', 'final', 'finally', 'financial', 'financially', 'find', 'finding', 'findings', 'fine', 'fingertips', 'finish', 'finished', 'fire', 'first', 'fit', 'fitness', 'fits', 'five', 'flexibility', 'flexible', 'floor', 'florida', 'flourish', 'flow', 'fluency', 'fluent', 'focus', 'focused', 'focuses', 'focusing', 'folders', 'follow', 'following', 'food', 'foods', 'foot', 'football', 'force', 'forever', 'forget', 'form', 'formal', 'format', 'forms', 'forth', 'fortunate', 'forward', 'foster', 'fosters', 'found', 'foundation', 'foundational', 'four', 'fourth', 'fractions', 'free', 'freedom', 'freely', 'frequent', 'frequently', 'fresh', 'friday', 'friend', 'friendly', 'friends', 'front', 'frustrated', 'frustration', 'fulfill', 'full', 'fullest', 'fully', 'fun', 'function', 'functional', 'functioning', 'functions', 'fund', 'fundamental', 'funded', 'funding', 'funds', 'funny', 'furniture', 'furthermore', 'future', 'futures', 'gain', 'gaining', 'gains', 'game', 'games', 'gap', 'gaps', 'garden', 'gather', 'general', 'generation', 'generations', 'generosity', 'generous', 'genres', 'geometry', 'get', 'gets', 'getting', 'gift', 'gifted', 'girls', 'give', 'given', 'gives', 'giving', 'global', 'glue', 'go', 'goal', 'goals', 'goes', 'going', 'gone', 'good', 'google', 'got', 'government', 'grab', 'grade', 'grader', 'graders', 'grades', 'graduate', 'graduation', 'grammar', 'grandparents', 'grant', 'granted', 'graphic', 'grasp', 'grateful', 'great', 'greater', 'greatest', 'greatly', 'greatness', 'green', 'greet', 'gross', 'ground', 'group', 'groups', 'grow', 'growing', 'grown', 'growth', 'guidance', 'guide', 'guided', 'gym', 'habits', 'half', 'hand', 'handle', 'hands', 'happen', 'happening', 'happens', 'happy', 'hard', 'harder', 'hardest', 'hardships', 'hardworking', 'head', 'headphones', 'health', 'healthier', 'healthy', 'hear', 'heard', 'hearing', 'heart', 'hearts', 'heavy', 'held', 'hello', 'help', 'helped', 'helpful', 'helping', 'helps', 'high', 'higher', 'highest', 'highlight', 'highly', 'hispanic', 'historical', 'history', 'hit', 'hokki', 'hold', 'holding', 'home', 'homeless', 'homes', 'homework', 'honor', 'hope', 'hopeful', 'hopefully', 'hopes', 'hoping', 'hot', 'hour', 'hours', 'house', 'household', 'households', 'houses', 'housing', 'however', 'huge', 'human', 'hundred', 'hundreds', 'hunger', 'hungry', 'idea', 'ideal', 'ideas', 'identified', 'identify', 'iep', 'ignite', 'illustrations', 'images', 'imagination', 'imaginations', 'imaginative', 'imagine', 'immediate', 'immediately', 'immersion', 'immigrant', 'immigrants', 'impact', 'impairments', 'imperative', 'implement', 'implemented', 'implementing', 'importance', 'important', 'importantly', 'impossible', 'impoverished', 'improve', 'improved', 'improvement', 'improves', 'improving', 'incentive', 'include', 'included', 'includes', 'including', 'inclusion', 'inclusive', 'income', 'incorporate', 'incorporated', 'incorporating', 'increase', 'increased', 'increases', 'increasing', 'increasingly', 'incredible', 'incredibly', 'independence', 'independent', 'independently', 'individual', 'individualized', 'individually', 'individuals', 'indoor', 'information', 'informational', 'initiative', 'ink', 'inner', 'innovation', 'innovative', 'input', 'inquiry', 'inquisitive', 'inside', 'inspiration', 'inspire', 'inspired', 'inspires', 'inspiring', 'instant', 'instead', 'instill', 'instruction', 'instructional', 'instrument', 'instruments', 'integral', 'integrate', 'integrated', 'integrating', 'integration', 'intellectual', 'intelligent', 'interact', 'interacting', 'interaction', 'interactions', 'interactive', 'interest', 'interested', 'interesting', 'interests', 'international', 'internet', 'intervention', 'interventions', 'introduce', 'introduced', 'introducing', 'invaluable', 'invested', 'investigate', 'investigations', 'investment', 'inviting', 'involve', 'involved', 'involvement', 'involves', 'ipad', 'ipads', 'issue', 'issues', 'item', 'items', 'job', 'jobs', 'join', 'journal', 'journals', 'journey', 'joy', 'jump', 'junior', 'keep', 'keeping', 'keeps', 'key', 'keyboard', 'kid', 'kiddos', 'kids', 'kind', 'kindergarten', 'kindergarteners', 'kindergartners', 'kindle', 'kindness', 'kinds', 'kinesthetic', 'kit', 'kits', 'knew', 'knit', 'know', 'knowing', 'knowledge', 'known', 'knows', 'lab', 'labeled', 'labs', 'lack', 'lacking', 'lacks', 'language', 'languages', 'lap', 'laptop', 'laptops', 'large', 'larger', 'largest', 'last', 'lasting', 'lastly', 'later', 'latest', 'latino', 'laugh', 'lay', 'lead', 'leader', 'leaders', 'leadership', 'leading', 'leads', 'learn', 'learned', 'learner', 'learners', 'learning', 'learns', 'least', 'leave', 'leaves', 'leaving', 'led', 'left', 'lego', 'legos', 'legs', 'less', 'lesson', 'lessons', 'let', 'letter', 'letters', 'level', 'leveled', 'levels', 'libraries', 'library', 'life', 'lifelong', 'lifestyle', 'lifetime', 'light', 'lights', 'like', 'likely', 'limit', 'limited', 'limits', 'line', 'lines', 'list', 'listen', 'listening', 'literacy', 'literally', 'literary', 'literate', 'literature', 'little', 'live', 'lively', 'lives', 'living', 'local', 'located', 'location', 'long', 'longer', 'look', 'looking', 'looks', 'los', 'lose', 'lost', 'lot', 'lots', 'loud', 'love', 'loved', 'loves', 'loving', 'low', 'lower', 'lowest', 'lucky', 'lunch', 'lunches', 'machine', 'made', 'magazine', 'magazines', 'magic', 'magical', 'magnet', 'magnetic', 'main', 'mainly', 'maintain', 'maintaining', 'major', 'majority', 'make', 'maker', 'makerspace', 'makes', 'making', 'manage', 'management', 'manipulate', 'manipulative', 'manipulatives', 'manner', 'many', 'markers', 'master', 'mastery', 'match', 'material', 'materials', 'math', 'mathematical', 'mathematicians', 'mathematics', 'mats', 'matter', 'maximize', 'may', 'maybe', 'meal', 'meals', 'mean', 'meaning', 'meaningful', 'means', 'measure', 'media', 'meet', 'meeting', 'meetings', 'meets', 'member', 'members', 'memorable', 'memories', 'memory', 'men', 'mental', 'met', 'method', 'methods', 'mexico', 'middle', 'might', 'miles', 'military', 'mind', 'minds', 'mindset', 'mine', 'mini', 'minimal', 'minis', 'minority', 'minute', 'minutes', 'miss', 'missing', 'mission', 'mistakes', 'mix', 'mixed', 'mobile', 'model', 'modeling', 'models', 'moderate', 'modern', 'moment', 'moments', 'money', 'monitor', 'month', 'months', 'morning', 'mostly', 'motion', 'motivate', 'motivated', 'motivates', 'motivating', 'motivation', 'motor', 'motto', 'mouse', 'move', 'moved', 'movement', 'movements', 'moving', 'mrs', 'ms', 'much', 'multi', 'multicultural', 'multiple', 'multiplication', 'multitude', 'muscles', 'music', 'musical', 'musicians', 'must', 'name', 'names', 'nation', 'national', 'native', 'natural', 'naturally', 'nature', 'navigate', 'near', 'nearly', 'necessary', 'necessities', 'necessity', 'need', 'needed', 'needing', 'needs', 'negative', 'neighborhood', 'neighborhoods', 'never', 'new', 'newly', 'news', 'next', 'nice', 'night', 'nine', 'no', 'noise', 'non', 'nonfiction', 'normal', 'normally', 'north', 'not', 'note', 'notebook', 'notebooks', 'notes', 'nothing', 'notice', 'noticed', 'novel', 'novels', 'number', 'numbers', 'numerous', 'nurturing', 'nutrition', 'objectives', 'objects', 'observe', 'obstacle', 'obstacles', 'obtain', 'occur', 'odds', 'offer', 'offered', 'offering', 'offers', 'office', 'often', 'old', 'older', 'olds', 'one', 'ones', 'online', 'onto', 'open', 'opened', 'opening', 'opens', 'opinions', 'opportunities', 'opportunity', 'option', 'options', 'oral', 'order', 'org', 'organization', 'organizational', 'organize', 'organized', 'original', 'osmo', 'others', 'otherwise', 'outdated', 'outdoor', 'outdoors', 'outlet', 'outside', 'overall', 'overcome', 'overwhelming', 'ownership', 'pace', 'paced', 'pads', 'page', 'pages', 'paint', 'painting', 'pair', 'pairs', 'paper', 'papers', 'parent', 'parental', 'parents', 'park', 'part', 'participate', 'participating', 'participation', 'particular', 'particularly', 'partner', 'partners', 'parts', 'pass', 'passion', 'passionate', 'past', 'path', 'patterns', 'pay', 'pe', 'peer', 'peers', 'pen', 'pencil', 'pencils', 'pens', 'people', 'per', 'percent', 'percentage', 'perfect', 'perform', 'performance', 'performances', 'performing', 'period', 'periods', 'perseverance', 'persevere', 'person', 'personal', 'personalities', 'personalized', 'personally', 'perspective', 'perspectives', 'philadelphia', 'phone', 'phones', 'phonics', 'photos', 'physical', 'physically', 'pick', 'picture', 'pictures', 'piece', 'pieces', 'pillows', 'place', 'placed', 'places', 'plan', 'planning', 'plans', 'plant', 'plants', 'plastic', 'play', 'played', 'player', 'players', 'playground', 'playing', 'plays', 'please', 'pleasure', 'plenty', 'plus', 'pocket', 'pockets', 'point', 'points', 'poor', 'poorest', 'popular', 'population', 'portable', 'portion', 'position', 'positive', 'positively', 'possibilities', 'possible', 'possibly', 'post', 'posters', 'posture', 'potential', 'poverty', 'power', 'powerful', 'practice', 'practices', 'practicing', 'pre', 'precious', 'prefer', 'prek', 'prepare', 'prepared', 'preparing', 'preschool', 'present', 'presentation', 'presentations', 'presented', 'pretty', 'prevent', 'previous', 'previously', 'price', 'priced', 'pride', 'primarily', 'primary', 'print', 'printed', 'printer', 'printing', 'prior', 'priority', 'privilege', 'privileged', 'problem', 'problems', 'process', 'processes', 'processing', 'produce', 'product', 'production', 'productive', 'productivity', 'products', 'professional', 'proficiency', 'proficient', 'program', 'programming', 'programs', 'progress', 'project', 'projector', 'projects', 'promote', 'promotes', 'promoting', 'proper', 'properly', 'protect', 'proud', 'prove', 'proven', 'provide', 'provided', 'provides', 'providing', 'public', 'publish', 'pull', 'purchase', 'purchased', 'purchasing', 'purpose', 'purposes', 'pursue', 'push', 'put', 'puts', 'putting', 'puzzles', 'qualifies', 'qualify', 'qualifying', 'quality', 'question', 'questions', 'quick', 'quickly', 'quiet', 'quietly', 'quite', 'quote', 'race', 'raise', 'raised', 'range', 'ranging', 'rarely', 'rate', 'rates', 'rather', 'reach', 'reaching', 'read', 'reader', 'readers', 'readily', 'readiness', 'reading', 'reads', 'ready', 'real', 'reality', 'realize', 'realized', 'really', 'reason', 'reasons', 'receive', 'received', 'receives', 'receiving', 'recent', 'recently', 'recess', 'recognition', 'recognize', 'record', 'recording', 'reduce', 'reduced', 'reference', 'reflect', 'regardless', 'regular', 'regularly', 'reinforce', 'reinforcement', 'relate', 'related', 'relationship', 'relationships', 'relax', 'release', 'relevant', 'reliable', 'reluctant', 'rely', 'remain', 'remaining', 'remember', 'remind', 'replace', 'report', 'reports', 'represent', 'represented', 'request', 'requested', 'requesting', 'require', 'required', 'requirements', 'requires', 'research', 'researching', 'resilient', 'resource', 'resources', 'respect', 'respectful', 'respond', 'response', 'responsibility', 'responsible', 'rest', 'result', 'results', 'retain', 'return', 'review', 'reward', 'rewarding', 'rich', 'right', 'rigor', 'rigorous', 'rise', 'risk', 'risks', 'road', 'robot', 'robotics', 'robots', 'rock', 'role', 'roll', 'room', 'rotate', 'rotation', 'rotations', 'rough', 'round', 'rounded', 'routine', 'routines', 'rug', 'rules', 'run', 'running', 'rural', 'sadly', 'safe', 'safely', 'safety', 'said', 'san', 'sand', 'save', 'savvy', 'saw', 'say', 'saying', 'says', 'schedule', 'scholars', 'scholastic', 'school', 'schooling', 'schools', 'science', 'scientific', 'scientists', 'scissors', 'scores', 'screen', 'search', 'searching', 'season', 'seat', 'seated', 'seating', 'seats', 'second', 'section', 'secure', 'see', 'seeing', 'seek', 'seeking', 'seem', 'seems', 'seen', 'select', 'selected', 'selection', 'self', 'semester', 'send', 'sense', 'senses', 'sensory', 'sentence', 'sentences', 'separate', 'series', 'serve', 'serves', 'service', 'services', 'serving', 'sessions', 'set', 'sets', 'setting', 'settings', 'seuss', 'seven', 'seventh', 'several', 'severe', 'shape', 'shapes', 'share', 'shared', 'sharing', 'sharpener', 'sheets', 'shelves', 'shine', 'shoes', 'short', 'show', 'showcase', 'showing', 'shown', 'shows', 'siblings', 'side', 'sight', 'sign', 'significant', 'significantly', 'silly', 'similar', 'simple', 'simply', 'simultaneously', 'since', 'sing', 'singing', 'single', 'sit', 'site', 'sites', 'sitting', 'situation', 'situations', 'six', 'sixth', 'size', 'sizes', 'skill', 'skills', 'small', 'smaller', 'smart', 'smile', 'smiles', 'smiling', 'snack', 'snacks', 'soak', 'soar', 'soccer', 'social', 'socially', 'society', 'socio', 'socioeconomic', 'soft', 'software', 'solid', 'solution', 'solutions', 'solve', 'solvers', 'solving', 'someone', 'something', 'sometimes', 'song', 'songs', 'soon', 'sort', 'sound', 'sounds', 'source', 'sources', 'south', 'southern', 'space', 'spaces', 'span', 'spanish', 'spark', 'speak', 'speakers', 'speaking', 'special', 'specific', 'specifically', 'spectrum', 'speech', 'speed', 'spelling', 'spend', 'spending', 'spent', 'spirit', 'spite', 'spoken', 'sponges', 'sport', 'sports', 'spot', 'spread', 'spring', 'stability', 'stable', 'staff', 'stage', 'stamina', 'stand', 'standard', 'standardized', 'standards', 'standing', 'stands', 'stars', 'start', 'started', 'starting', 'starts', 'state', 'states', 'station', 'stations', 'status', 'stay', 'staying', 'steam', 'stem', 'step', 'steps', 'sticks', 'still', 'stimulate', 'stimulation', 'stock', 'stool', 'stools', 'stop', 'storage', 'store', 'stories', 'story', 'strategies', 'strategy', 'strength', 'strengthen', 'strengths', 'stress', 'stretch', 'stricken', 'strive', 'strives', 'striving', 'strong', 'stronger', 'structure', 'structured', 'structures', 'struggle', 'struggles', 'struggling', 'student', 'studies', 'study', 'studying', 'sturdy', 'style', 'styles', 'subject', 'subjects', 'subtraction', 'suburban', 'succeed', 'success', 'successes', 'successful', 'successfully', 'summer', 'super', 'supplement', 'supplies', 'supply', 'support', 'supported', 'supporting', 'supportive', 'supports', 'sure', 'surface', 'surprise', 'surrounded', 'surrounding', 'sweet', 'system', 'systems', 'table', 'tables', 'tablet', 'tablets', 'tackle', 'tactile', 'take', 'taken', 'takes', 'taking', 'talent', 'talented', 'talents', 'talk', 'talking', 'tape', 'target', 'task', 'tasks', 'taught', 'teach', 'teacher', 'teachers', 'teaches', 'teaching', 'team', 'teams', 'teamwork', 'tech', 'techniques', 'technological', 'technologically', 'technologies', 'technology', 'tell', 'telling', 'ten', 'tend', 'term', 'terms', 'test', 'testing', 'tests', 'texas', 'text', 'textbook', 'textbooks', 'texts', 'thank', 'thankful', 'thanks', 'theme', 'themes', 'therapy', 'therefore', 'thing', 'things', 'think', 'thinkers', 'thinking', 'third', 'thirst', 'thirty', 'though', 'thought', 'thoughtful', 'thoughts', 'three', 'thrilled', 'thrive', 'throughout', 'thus', 'tight', 'tiles', 'time', 'times', 'tired', 'title', 'titles', 'today', 'together', 'told', 'tomorrow', 'took', 'tool', 'tools', 'top', 'topic', 'topics', 'total', 'touch', 'tough', 'toward', 'towards', 'town', 'toys', 'track', 'traditional', 'training', 'transfer', 'transform', 'transition', 'trauma', 'travel', 'treat', 'tremendous', 'tremendously', 'tried', 'trip', 'trips', 'trouble', 'true', 'truly', 'try', 'trying', 'turn', 'turning', 'turns', 'tv', 'twenty', 'twice', 'two', 'type', 'types', 'typical', 'typically', 'typing', 'ultimate', 'ultimately', 'unable', 'uncomfortable', 'understand', 'understanding', 'unfortunately', 'unique', 'unit', 'united', 'units', 'university', 'upcoming', 'updated', 'upon', 'upper', 'urban', 'us', 'use', 'used', 'useful', 'uses', 'using', 'usually', 'utilize', 'utilized', 'utilizing', 'valuable', 'value', 'valued', 'values', 'varied', 'variety', 'various', 'vary', 'varying', 'vast', 'vegetables', 'verbal', 'via', 'vibrant', 'video', 'videos', 'view', 'violence', 'virtual', 'vision', 'visit', 'visual', 'visualize', 'visually', 'visuals', 'vital', 'vocabulary', 'voice', 'voices', 'wait', 'waiting', 'walk', 'walking', 'walks', 'wall', 'walls', 'want', 'wanted', 'wanting', 'wants', 'warm', 'washington', 'watch', 'watching', 'water', 'way', 'ways', 'wear', 'weather', 'web', 'website', 'websites', 'week', 'weekend', 'weekends', 'weekly', 'weeks', 'weight', 'welcome', 'welcoming', 'well', 'wellness', 'went', 'west', 'whatever', 'whenever', 'whether', 'white', 'whiteboard', 'whiteboards', 'whole', 'whose', 'wide', 'wiggle', 'wiggles', 'wiggly', 'willing', 'willingness', 'win', 'winter', 'wireless', 'wish', 'within', 'without', 'wobble', 'wonder', 'wonderful', 'word', 'words', 'work', 'worked', 'workers', 'working', 'works', 'worksheets', 'workshop', 'world', 'worlds', 'worn', 'worry', 'worth', 'would', 'write', 'writer', 'writers', 'writing', 'written', 'year', 'years', 'yes', 'yet', 'yoga', 'york', 'young', 'younger', 'youth', '21st', 'active', 'art', 'book', 'books', 'build', 'building', 'center', 'centers', 'century', 'chairs', 'chromebooks', 'class', 'classroom', 'coding', 'create', 'creating', 'creative', 'day', 'education', 'engaging', 'first', 'flexible', 'focus', 'fun', 'future', 'games', 'get', 'getting', 'go', 'good', 'grade', 'graders', 'great', 'hands', 'headphones', 'healthy', 'hear', 'help', 'home', 'interactive', 'ipad', 'ipads', 'keep', 'kids', 'kindergarten', 'language', 'learn', 'learners', 'learning', 'let', 'library', 'life', 'like', 'listening', 'literacy', 'little', 'love', 'make', 'making', 'materials', 'math', 'minds', 'move', 'movement', 'moving', 'music', 'need', 'needed', 'needs', 'new', 'not', 'oh', 'one', 'part', 'place', 'play', 'please', 'project', 'read', 'readers', 'reading', 'ready', 'room', 'school', 'science', 'seating', 'sensory', 'skills', 'special', 'steam', 'stem', 'student', 'students', 'success', 'supplies', 'tablets', 'tech', 'technology', 'time', 'tools', 'us', 'using', 'want', 'way', 'wiggle', 'wobble', 'work', 'world', 'writing', 'year', 'young']\n"
     ]
    }
   ],
   "source": [
    "from sklearn.feature_extraction.text import CountVectorizer\n",
    "from sklearn.preprocessing import FunctionTransformer\n",
    "from sklearn.pipeline import FeatureUnion, Pipeline\n",
    "dataset_bow = dataset_encoded[['cleaned_essays','cleaned_titles']]\n",
    "transformer = FeatureUnion([\n",
    "                ('cleaned_eassay_tfidf', \n",
    "                  Pipeline([('extract_field',\n",
    "                              FunctionTransformer(lambda attr: attr['cleaned_essays'], \n",
    "                                                  validate=False)),\n",
    "                            ('bow', \n",
    "                               CountVectorizer(min_df=0.005,max_df=0.90))])),\n",
    "                ('cleaned_title_tfidf', \n",
    "                  Pipeline([('extract_field', \n",
    "                              FunctionTransformer(lambda attr: attr['cleaned_titles'], \n",
    "                                                  validate=False)),\n",
    "                            ('bow', \n",
    "                              CountVectorizer(min_df=0.005,max_df=0.90))]))]) \n",
    "\n",
    "transformer.fit(dataset_bow)\n",
    "\n",
    "essay_vocab_bow = transformer.transformer_list[0][1].steps[1][1].get_feature_names() \n",
    "title_vocab_bow = transformer.transformer_list[1][1].steps[1][1].get_feature_names()\n",
    "vocab_bow = essay_vocab_bow + title_vocab_bow\n",
    "print(vocab_bow)"
   ]
  },
  {
   "cell_type": "code",
   "execution_count": 71,
   "metadata": {},
   "outputs": [
    {
     "data": {
      "text/html": [
       "<div>\n",
       "<style scoped>\n",
       "    .dataframe tbody tr th:only-of-type {\n",
       "        vertical-align: middle;\n",
       "    }\n",
       "\n",
       "    .dataframe tbody tr th {\n",
       "        vertical-align: top;\n",
       "    }\n",
       "\n",
       "    .dataframe thead th {\n",
       "        text-align: right;\n",
       "    }\n",
       "</style>\n",
       "<table border=\"1\" class=\"dataframe\">\n",
       "  <thead>\n",
       "    <tr style=\"text-align: right;\">\n",
       "      <th></th>\n",
       "      <th>000</th>\n",
       "      <th>10</th>\n",
       "      <th>100</th>\n",
       "      <th>11</th>\n",
       "      <th>12</th>\n",
       "      <th>12th</th>\n",
       "      <th>13</th>\n",
       "      <th>14</th>\n",
       "      <th>15</th>\n",
       "      <th>16</th>\n",
       "      <th>...</th>\n",
       "      <th>using</th>\n",
       "      <th>want</th>\n",
       "      <th>way</th>\n",
       "      <th>wiggle</th>\n",
       "      <th>wobble</th>\n",
       "      <th>work</th>\n",
       "      <th>world</th>\n",
       "      <th>writing</th>\n",
       "      <th>year</th>\n",
       "      <th>young</th>\n",
       "    </tr>\n",
       "  </thead>\n",
       "  <tbody>\n",
       "    <tr>\n",
       "      <th>0</th>\n",
       "      <td>0</td>\n",
       "      <td>0</td>\n",
       "      <td>0</td>\n",
       "      <td>0</td>\n",
       "      <td>0</td>\n",
       "      <td>0</td>\n",
       "      <td>0</td>\n",
       "      <td>0</td>\n",
       "      <td>0</td>\n",
       "      <td>0</td>\n",
       "      <td>...</td>\n",
       "      <td>0</td>\n",
       "      <td>0</td>\n",
       "      <td>0</td>\n",
       "      <td>0</td>\n",
       "      <td>0</td>\n",
       "      <td>0</td>\n",
       "      <td>0</td>\n",
       "      <td>0</td>\n",
       "      <td>0</td>\n",
       "      <td>0</td>\n",
       "    </tr>\n",
       "    <tr>\n",
       "      <th>1</th>\n",
       "      <td>0</td>\n",
       "      <td>0</td>\n",
       "      <td>0</td>\n",
       "      <td>0</td>\n",
       "      <td>0</td>\n",
       "      <td>0</td>\n",
       "      <td>0</td>\n",
       "      <td>0</td>\n",
       "      <td>0</td>\n",
       "      <td>0</td>\n",
       "      <td>...</td>\n",
       "      <td>0</td>\n",
       "      <td>0</td>\n",
       "      <td>0</td>\n",
       "      <td>0</td>\n",
       "      <td>0</td>\n",
       "      <td>0</td>\n",
       "      <td>0</td>\n",
       "      <td>0</td>\n",
       "      <td>0</td>\n",
       "      <td>0</td>\n",
       "    </tr>\n",
       "    <tr>\n",
       "      <th>2</th>\n",
       "      <td>0</td>\n",
       "      <td>0</td>\n",
       "      <td>0</td>\n",
       "      <td>0</td>\n",
       "      <td>0</td>\n",
       "      <td>0</td>\n",
       "      <td>0</td>\n",
       "      <td>0</td>\n",
       "      <td>0</td>\n",
       "      <td>0</td>\n",
       "      <td>...</td>\n",
       "      <td>0</td>\n",
       "      <td>0</td>\n",
       "      <td>0</td>\n",
       "      <td>0</td>\n",
       "      <td>0</td>\n",
       "      <td>0</td>\n",
       "      <td>0</td>\n",
       "      <td>0</td>\n",
       "      <td>0</td>\n",
       "      <td>0</td>\n",
       "    </tr>\n",
       "    <tr>\n",
       "      <th>3</th>\n",
       "      <td>0</td>\n",
       "      <td>0</td>\n",
       "      <td>0</td>\n",
       "      <td>0</td>\n",
       "      <td>0</td>\n",
       "      <td>0</td>\n",
       "      <td>0</td>\n",
       "      <td>0</td>\n",
       "      <td>0</td>\n",
       "      <td>0</td>\n",
       "      <td>...</td>\n",
       "      <td>0</td>\n",
       "      <td>0</td>\n",
       "      <td>0</td>\n",
       "      <td>0</td>\n",
       "      <td>0</td>\n",
       "      <td>0</td>\n",
       "      <td>0</td>\n",
       "      <td>0</td>\n",
       "      <td>0</td>\n",
       "      <td>0</td>\n",
       "    </tr>\n",
       "    <tr>\n",
       "      <th>4</th>\n",
       "      <td>0</td>\n",
       "      <td>0</td>\n",
       "      <td>0</td>\n",
       "      <td>0</td>\n",
       "      <td>0</td>\n",
       "      <td>0</td>\n",
       "      <td>0</td>\n",
       "      <td>0</td>\n",
       "      <td>0</td>\n",
       "      <td>0</td>\n",
       "      <td>...</td>\n",
       "      <td>0</td>\n",
       "      <td>0</td>\n",
       "      <td>0</td>\n",
       "      <td>0</td>\n",
       "      <td>0</td>\n",
       "      <td>0</td>\n",
       "      <td>0</td>\n",
       "      <td>0</td>\n",
       "      <td>0</td>\n",
       "      <td>0</td>\n",
       "    </tr>\n",
       "  </tbody>\n",
       "</table>\n",
       "<p>5 rows × 2591 columns</p>\n",
       "</div>"
      ],
      "text/plain": [
       "   000  10  100  11  12  12th  13  14  15  16  ...  using  want  way  wiggle  \\\n",
       "0    0   0    0   0   0     0   0   0   0   0  ...      0     0    0       0   \n",
       "1    0   0    0   0   0     0   0   0   0   0  ...      0     0    0       0   \n",
       "2    0   0    0   0   0     0   0   0   0   0  ...      0     0    0       0   \n",
       "3    0   0    0   0   0     0   0   0   0   0  ...      0     0    0       0   \n",
       "4    0   0    0   0   0     0   0   0   0   0  ...      0     0    0       0   \n",
       "\n",
       "   wobble  work  world  writing  year  young  \n",
       "0       0     0      0        0     0      0  \n",
       "1       0     0      0        0     0      0  \n",
       "2       0     0      0        0     0      0  \n",
       "3       0     0      0        0     0      0  \n",
       "4       0     0      0        0     0      0  \n",
       "\n",
       "[5 rows x 2591 columns]"
      ]
     },
     "execution_count": 71,
     "metadata": {},
     "output_type": "execute_result"
    }
   ],
   "source": [
    "dataset_vec_bow = pd.DataFrame(transformer.transform(dataset_bow).toarray(), columns=vocab_bow)\n",
    "dataset_vec_bow.head(5)"
   ]
  },
  {
   "cell_type": "code",
   "execution_count": 72,
   "metadata": {},
   "outputs": [
    {
     "data": {
      "text/html": [
       "<div>\n",
       "<style scoped>\n",
       "    .dataframe tbody tr th:only-of-type {\n",
       "        vertical-align: middle;\n",
       "    }\n",
       "\n",
       "    .dataframe tbody tr th {\n",
       "        vertical-align: top;\n",
       "    }\n",
       "\n",
       "    .dataframe thead th {\n",
       "        text-align: right;\n",
       "    }\n",
       "</style>\n",
       "<table border=\"1\" class=\"dataframe\">\n",
       "  <thead>\n",
       "    <tr style=\"text-align: right;\">\n",
       "      <th></th>\n",
       "      <th>000</th>\n",
       "      <th>10</th>\n",
       "      <th>100</th>\n",
       "      <th>11</th>\n",
       "      <th>12</th>\n",
       "      <th>12th</th>\n",
       "      <th>13</th>\n",
       "      <th>14</th>\n",
       "      <th>15</th>\n",
       "      <th>16</th>\n",
       "      <th>...</th>\n",
       "      <th>project_subject_subcategories_socialsciences_visualarts</th>\n",
       "      <th>project_subject_subcategories_specialneeds</th>\n",
       "      <th>project_subject_subcategories_specialneeds_teamsports</th>\n",
       "      <th>project_subject_subcategories_specialneeds_visualarts</th>\n",
       "      <th>project_subject_subcategories_specialneeds_warmth_care_hunger</th>\n",
       "      <th>project_subject_subcategories_teamsports</th>\n",
       "      <th>project_subject_subcategories_teamsports_visualarts</th>\n",
       "      <th>project_subject_subcategories_visualarts</th>\n",
       "      <th>project_subject_subcategories_visualarts_warmth_care_hunger</th>\n",
       "      <th>project_subject_subcategories_warmth_care_hunger</th>\n",
       "    </tr>\n",
       "  </thead>\n",
       "  <tbody>\n",
       "    <tr>\n",
       "      <th>0</th>\n",
       "      <td>0</td>\n",
       "      <td>0</td>\n",
       "      <td>0</td>\n",
       "      <td>0</td>\n",
       "      <td>0</td>\n",
       "      <td>0</td>\n",
       "      <td>0</td>\n",
       "      <td>0</td>\n",
       "      <td>0</td>\n",
       "      <td>0</td>\n",
       "      <td>...</td>\n",
       "      <td>0</td>\n",
       "      <td>0</td>\n",
       "      <td>0</td>\n",
       "      <td>0</td>\n",
       "      <td>0</td>\n",
       "      <td>0</td>\n",
       "      <td>0</td>\n",
       "      <td>0</td>\n",
       "      <td>0</td>\n",
       "      <td>0</td>\n",
       "    </tr>\n",
       "    <tr>\n",
       "      <th>1</th>\n",
       "      <td>0</td>\n",
       "      <td>0</td>\n",
       "      <td>0</td>\n",
       "      <td>0</td>\n",
       "      <td>0</td>\n",
       "      <td>0</td>\n",
       "      <td>0</td>\n",
       "      <td>0</td>\n",
       "      <td>0</td>\n",
       "      <td>0</td>\n",
       "      <td>...</td>\n",
       "      <td>0</td>\n",
       "      <td>0</td>\n",
       "      <td>0</td>\n",
       "      <td>0</td>\n",
       "      <td>0</td>\n",
       "      <td>0</td>\n",
       "      <td>0</td>\n",
       "      <td>0</td>\n",
       "      <td>0</td>\n",
       "      <td>0</td>\n",
       "    </tr>\n",
       "    <tr>\n",
       "      <th>2</th>\n",
       "      <td>0</td>\n",
       "      <td>0</td>\n",
       "      <td>0</td>\n",
       "      <td>0</td>\n",
       "      <td>0</td>\n",
       "      <td>0</td>\n",
       "      <td>0</td>\n",
       "      <td>0</td>\n",
       "      <td>0</td>\n",
       "      <td>0</td>\n",
       "      <td>...</td>\n",
       "      <td>0</td>\n",
       "      <td>0</td>\n",
       "      <td>0</td>\n",
       "      <td>0</td>\n",
       "      <td>0</td>\n",
       "      <td>0</td>\n",
       "      <td>0</td>\n",
       "      <td>0</td>\n",
       "      <td>0</td>\n",
       "      <td>0</td>\n",
       "    </tr>\n",
       "    <tr>\n",
       "      <th>3</th>\n",
       "      <td>0</td>\n",
       "      <td>0</td>\n",
       "      <td>0</td>\n",
       "      <td>0</td>\n",
       "      <td>0</td>\n",
       "      <td>0</td>\n",
       "      <td>0</td>\n",
       "      <td>0</td>\n",
       "      <td>0</td>\n",
       "      <td>0</td>\n",
       "      <td>...</td>\n",
       "      <td>0</td>\n",
       "      <td>0</td>\n",
       "      <td>0</td>\n",
       "      <td>0</td>\n",
       "      <td>0</td>\n",
       "      <td>0</td>\n",
       "      <td>0</td>\n",
       "      <td>0</td>\n",
       "      <td>0</td>\n",
       "      <td>0</td>\n",
       "    </tr>\n",
       "    <tr>\n",
       "      <th>4</th>\n",
       "      <td>0</td>\n",
       "      <td>0</td>\n",
       "      <td>0</td>\n",
       "      <td>0</td>\n",
       "      <td>0</td>\n",
       "      <td>0</td>\n",
       "      <td>0</td>\n",
       "      <td>0</td>\n",
       "      <td>0</td>\n",
       "      <td>0</td>\n",
       "      <td>...</td>\n",
       "      <td>0</td>\n",
       "      <td>0</td>\n",
       "      <td>0</td>\n",
       "      <td>0</td>\n",
       "      <td>0</td>\n",
       "      <td>0</td>\n",
       "      <td>0</td>\n",
       "      <td>0</td>\n",
       "      <td>0</td>\n",
       "      <td>0</td>\n",
       "    </tr>\n",
       "  </tbody>\n",
       "</table>\n",
       "<p>5 rows × 3103 columns</p>\n",
       "</div>"
      ],
      "text/plain": [
       "   000  10  100  11  12  12th  13  14  15  16  ...  \\\n",
       "0    0   0    0   0   0     0   0   0   0   0  ...   \n",
       "1    0   0    0   0   0     0   0   0   0   0  ...   \n",
       "2    0   0    0   0   0     0   0   0   0   0  ...   \n",
       "3    0   0    0   0   0     0   0   0   0   0  ...   \n",
       "4    0   0    0   0   0     0   0   0   0   0  ...   \n",
       "\n",
       "   project_subject_subcategories_socialsciences_visualarts  \\\n",
       "0                                                  0         \n",
       "1                                                  0         \n",
       "2                                                  0         \n",
       "3                                                  0         \n",
       "4                                                  0         \n",
       "\n",
       "   project_subject_subcategories_specialneeds  \\\n",
       "0                                           0   \n",
       "1                                           0   \n",
       "2                                           0   \n",
       "3                                           0   \n",
       "4                                           0   \n",
       "\n",
       "   project_subject_subcategories_specialneeds_teamsports  \\\n",
       "0                                                  0       \n",
       "1                                                  0       \n",
       "2                                                  0       \n",
       "3                                                  0       \n",
       "4                                                  0       \n",
       "\n",
       "   project_subject_subcategories_specialneeds_visualarts  \\\n",
       "0                                                  0       \n",
       "1                                                  0       \n",
       "2                                                  0       \n",
       "3                                                  0       \n",
       "4                                                  0       \n",
       "\n",
       "   project_subject_subcategories_specialneeds_warmth_care_hunger  \\\n",
       "0                                                  0               \n",
       "1                                                  0               \n",
       "2                                                  0               \n",
       "3                                                  0               \n",
       "4                                                  0               \n",
       "\n",
       "   project_subject_subcategories_teamsports  \\\n",
       "0                                         0   \n",
       "1                                         0   \n",
       "2                                         0   \n",
       "3                                         0   \n",
       "4                                         0   \n",
       "\n",
       "   project_subject_subcategories_teamsports_visualarts  \\\n",
       "0                                                  0     \n",
       "1                                                  0     \n",
       "2                                                  0     \n",
       "3                                                  0     \n",
       "4                                                  0     \n",
       "\n",
       "   project_subject_subcategories_visualarts  \\\n",
       "0                                         0   \n",
       "1                                         0   \n",
       "2                                         0   \n",
       "3                                         0   \n",
       "4                                         0   \n",
       "\n",
       "   project_subject_subcategories_visualarts_warmth_care_hunger  \\\n",
       "0                                                  0             \n",
       "1                                                  0             \n",
       "2                                                  0             \n",
       "3                                                  0             \n",
       "4                                                  0             \n",
       "\n",
       "   project_subject_subcategories_warmth_care_hunger  \n",
       "0                                                 0  \n",
       "1                                                 0  \n",
       "2                                                 0  \n",
       "3                                                 0  \n",
       "4                                                 0  \n",
       "\n",
       "[5 rows x 3103 columns]"
      ]
     },
     "execution_count": 72,
     "metadata": {},
     "output_type": "execute_result"
    }
   ],
   "source": [
    "dataset_vec_bow_final = pd.concat([dataset_vec_bow,dataset_encoded[dataset_encoded.columns[~dataset_encoded.columns.isin(['cleaned_essays','cleaned_titles','cleaned_summary'])]]],axis = 1)\n",
    "dataset_vec_bow_final.head(5)"
   ]
  },
  {
   "cell_type": "code",
   "execution_count": 73,
   "metadata": {},
   "outputs": [
    {
     "data": {
      "text/html": [
       "<div>\n",
       "<style scoped>\n",
       "    .dataframe tbody tr th:only-of-type {\n",
       "        vertical-align: middle;\n",
       "    }\n",
       "\n",
       "    .dataframe tbody tr th {\n",
       "        vertical-align: top;\n",
       "    }\n",
       "\n",
       "    .dataframe thead th {\n",
       "        text-align: right;\n",
       "    }\n",
       "</style>\n",
       "<table border=\"1\" class=\"dataframe\">\n",
       "  <thead>\n",
       "    <tr style=\"text-align: right;\">\n",
       "      <th></th>\n",
       "      <th>000</th>\n",
       "      <th>10</th>\n",
       "      <th>100</th>\n",
       "      <th>11</th>\n",
       "      <th>12</th>\n",
       "      <th>12th</th>\n",
       "      <th>13</th>\n",
       "      <th>14</th>\n",
       "      <th>15</th>\n",
       "      <th>16</th>\n",
       "      <th>...</th>\n",
       "      <th>project_subject_subcategories_socialsciences_visualarts</th>\n",
       "      <th>project_subject_subcategories_specialneeds</th>\n",
       "      <th>project_subject_subcategories_specialneeds_teamsports</th>\n",
       "      <th>project_subject_subcategories_specialneeds_visualarts</th>\n",
       "      <th>project_subject_subcategories_specialneeds_warmth_care_hunger</th>\n",
       "      <th>project_subject_subcategories_teamsports</th>\n",
       "      <th>project_subject_subcategories_teamsports_visualarts</th>\n",
       "      <th>project_subject_subcategories_visualarts</th>\n",
       "      <th>project_subject_subcategories_visualarts_warmth_care_hunger</th>\n",
       "      <th>project_subject_subcategories_warmth_care_hunger</th>\n",
       "    </tr>\n",
       "  </thead>\n",
       "  <tbody>\n",
       "    <tr>\n",
       "      <th>0</th>\n",
       "      <td>0.0</td>\n",
       "      <td>0.0</td>\n",
       "      <td>0.0</td>\n",
       "      <td>0.0</td>\n",
       "      <td>0.0</td>\n",
       "      <td>0.0</td>\n",
       "      <td>0.0</td>\n",
       "      <td>0.0</td>\n",
       "      <td>0.0</td>\n",
       "      <td>0.0</td>\n",
       "      <td>...</td>\n",
       "      <td>0.0</td>\n",
       "      <td>0.0</td>\n",
       "      <td>0.0</td>\n",
       "      <td>0.0</td>\n",
       "      <td>0.0</td>\n",
       "      <td>0.0</td>\n",
       "      <td>0.0</td>\n",
       "      <td>0.0</td>\n",
       "      <td>0.0</td>\n",
       "      <td>0.0</td>\n",
       "    </tr>\n",
       "    <tr>\n",
       "      <th>1</th>\n",
       "      <td>0.0</td>\n",
       "      <td>0.0</td>\n",
       "      <td>0.0</td>\n",
       "      <td>0.0</td>\n",
       "      <td>0.0</td>\n",
       "      <td>0.0</td>\n",
       "      <td>0.0</td>\n",
       "      <td>0.0</td>\n",
       "      <td>0.0</td>\n",
       "      <td>0.0</td>\n",
       "      <td>...</td>\n",
       "      <td>0.0</td>\n",
       "      <td>0.0</td>\n",
       "      <td>0.0</td>\n",
       "      <td>0.0</td>\n",
       "      <td>0.0</td>\n",
       "      <td>0.0</td>\n",
       "      <td>0.0</td>\n",
       "      <td>0.0</td>\n",
       "      <td>0.0</td>\n",
       "      <td>0.0</td>\n",
       "    </tr>\n",
       "  </tbody>\n",
       "</table>\n",
       "<p>2 rows × 3103 columns</p>\n",
       "</div>"
      ],
      "text/plain": [
       "   000   10  100   11   12  12th   13   14   15   16  ...  \\\n",
       "0  0.0  0.0  0.0  0.0  0.0   0.0  0.0  0.0  0.0  0.0  ...   \n",
       "1  0.0  0.0  0.0  0.0  0.0   0.0  0.0  0.0  0.0  0.0  ...   \n",
       "\n",
       "   project_subject_subcategories_socialsciences_visualarts  \\\n",
       "0                                                0.0         \n",
       "1                                                0.0         \n",
       "\n",
       "   project_subject_subcategories_specialneeds  \\\n",
       "0                                         0.0   \n",
       "1                                         0.0   \n",
       "\n",
       "   project_subject_subcategories_specialneeds_teamsports  \\\n",
       "0                                                0.0       \n",
       "1                                                0.0       \n",
       "\n",
       "   project_subject_subcategories_specialneeds_visualarts  \\\n",
       "0                                                0.0       \n",
       "1                                                0.0       \n",
       "\n",
       "   project_subject_subcategories_specialneeds_warmth_care_hunger  \\\n",
       "0                                                0.0               \n",
       "1                                                0.0               \n",
       "\n",
       "   project_subject_subcategories_teamsports  \\\n",
       "0                                       0.0   \n",
       "1                                       0.0   \n",
       "\n",
       "   project_subject_subcategories_teamsports_visualarts  \\\n",
       "0                                                0.0     \n",
       "1                                                0.0     \n",
       "\n",
       "   project_subject_subcategories_visualarts  \\\n",
       "0                                       0.0   \n",
       "1                                       0.0   \n",
       "\n",
       "   project_subject_subcategories_visualarts_warmth_care_hunger  \\\n",
       "0                                                0.0             \n",
       "1                                                0.0             \n",
       "\n",
       "   project_subject_subcategories_warmth_care_hunger  \n",
       "0                                               0.0  \n",
       "1                                               0.0  \n",
       "\n",
       "[2 rows x 3103 columns]"
      ]
     },
     "execution_count": 73,
     "metadata": {},
     "output_type": "execute_result"
    }
   ],
   "source": [
    "from sklearn import preprocessing\n",
    "min_max_scaler_bow = preprocessing.MinMaxScaler()\n",
    "df_bow = pd.DataFrame(min_max_scaler_bow.fit_transform(dataset_vec_bow_final),columns=dataset_vec_bow_final.columns)\n",
    "df_bow.head(2)"
   ]
  },
  {
   "cell_type": "code",
   "execution_count": 74,
   "metadata": {},
   "outputs": [],
   "source": [
    "X_BOW = df_bow.loc[:, df_bow.columns != 'project_is_approved']\n",
    "Y_BOW = df_bow.loc[:,df_bow.columns == 'project_is_approved']"
   ]
  },
  {
   "cell_type": "code",
   "execution_count": 75,
   "metadata": {},
   "outputs": [
    {
     "name": "stdout",
     "output_type": "stream",
     "text": [
      "(87398, 3102) (21850, 3102) (87398, 1) (21850, 1)\n"
     ]
    }
   ],
   "source": [
    "X_train_bow, X_test_bow,Y_train_bow,Y_test_bow = train_test_split(X_BOW,Y_BOW,test_size=0.2,random_state=1, stratify=Y_BOW)\n",
    "print(X_train_bow.shape,X_test_bow.shape,Y_train_bow.shape,Y_test_bow.shape)"
   ]
  },
  {
   "cell_type": "markdown",
   "metadata": {},
   "source": [
    "## Case 2 . TFIDF Vectorization"
   ]
  },
  {
   "cell_type": "markdown",
   "metadata": {},
   "source": [
    "## We have tried multiple things here \n",
    "### 1. The columns generated were around 72K without any setting which was huge\n",
    "### 2. Due to large column size dataframe, After tfidf vectorization the dataframe was not fitting into memory (MemoryError: Unable to allocate 58.9 GiB for an array with shape (109248, 72386) and data type float64)\n",
    "### So we used the pipeline to do the tfidf vectorization of both the columns in 1 go\n",
    "### Also we have optimised the tfidf vectorization using the min_df( Remove terms used in less than 0.05% of the documents) and max_df (Remove the terms used in more than 90% of the documents to remove less frequent words\n"
   ]
  },
  {
   "cell_type": "code",
   "execution_count": 76,
   "metadata": {},
   "outputs": [
    {
     "name": "stdout",
     "output_type": "stream",
     "text": [
      "['000', '10', '100', '11', '12', '12th', '13', '14', '15', '16', '17', '18', '19', '1st', '20', '200', '2016', '2017', '21', '21st', '22', '23', '24', '25', '26', '27', '28', '2nd', '30', '35', '3d', '3rd', '40', '400', '45', '4th', '50', '500', '5th', '60', '600', '6th', '70', '75', '7th', '80', '85', '8th', '90', '95', '98', '99', '9th', 'abilities', 'ability', 'able', 'absolutely', 'abstract', 'academic', 'academically', 'academics', 'academy', 'accelerated', 'acceptance', 'access', 'accessible', 'accommodate', 'accomplish', 'accomplished', 'accomplishments', 'according', 'achieve', 'achievement', 'achieving', 'acquire', 'across', 'act', 'action', 'actions', 'active', 'actively', 'activities', 'activity', 'actual', 'actually', 'adapt', 'add', 'added', 'adding', 'addition', 'additional', 'additionally', 'address', 'adequate', 'adhd', 'adult', 'adults', 'advance', 'advanced', 'advantage', 'adventure', 'adventures', 'affect', 'affluent', 'afford', 'african', 'afternoon', 'age', 'ages', 'ago', 'ahead', 'aid', 'aids', 'aim', 'air', 'alive', 'allow', 'allowed', 'allowing', 'allows', 'almost', 'alone', 'along', 'aloud', 'alouds', 'alphabet', 'already', 'also', 'alternative', 'although', 'always', 'amaze', 'amazed', 'amazing', 'america', 'american', 'americans', 'among', 'amount', 'analysis', 'analyze', 'anchor', 'angeles', 'animal', 'animals', 'another', 'answer', 'answers', 'anxiety', 'anxious', 'anyone', 'anything', 'anywhere', 'ap', 'apart', 'app', 'apple', 'application', 'applications', 'apply', 'applying', 'appreciate', 'appreciated', 'appreciation', 'appreciative', 'approach', 'appropriate', 'appropriately', 'approximately', 'apps', 'area', 'areas', 'around', 'array', 'arrive', 'art', 'articles', 'artist', 'artistic', 'artists', 'arts', 'artwork', 'asian', 'ask', 'asked', 'asking', 'aspect', 'aspects', 'assess', 'assessment', 'assessments', 'asset', 'assigned', 'assignment', 'assignments', 'assist', 'assistance', 'athletes', 'atmosphere', 'attend', 'attendance', 'attended', 'attending', 'attention', 'attitude', 'attitudes', 'audio', 'auditory', 'august', 'authentic', 'author', 'authors', 'autism', 'autistic', 'available', 'average', 'avid', 'award', 'aware', 'awareness', 'away', 'awesome', 'back', 'background', 'backgrounds', 'backpack', 'backpacks', 'bad', 'bag', 'bags', 'balance', 'ball', 'balls', 'band', 'bands', 'barriers', 'base', 'based', 'basic', 'basics', 'basis', 'basketball', 'bean', 'beautiful', 'became', 'become', 'becomes', 'becoming', 'began', 'begin', 'beginning', 'begins', 'behavior', 'behavioral', 'behaviors', 'behind', 'believe', 'beneficial', 'benefit', 'benefits', 'besides', 'best', 'better', 'beyond', 'big', 'bigger', 'biggest', 'bilingual', 'binders', 'bins', 'biology', 'bit', 'black', 'blended', 'blessed', 'block', 'blocks', 'blood', 'blue', 'board', 'boards', 'bodies', 'body', 'book', 'books', 'boost', 'boring', 'born', 'borrow', 'bounce', 'bouncy', 'bound', 'box', 'boxes', 'boys', 'brain', 'brains', 'brand', 'break', 'breakfast', 'breaks', 'bridge', 'bright', 'brilliant', 'bring', 'bringing', 'brings', 'broaden', 'broken', 'bronx', 'brought', 'budget', 'build', 'building', 'builds', 'built', 'bunch', 'bus', 'business', 'busy', 'buy', 'calculators', 'california', 'call', 'called', 'calm', 'calming', 'calories', 'came', 'camera', 'campus', 'cannot', 'capabilities', 'capable', 'capacity', 'capture', 'card', 'cards', 'care', 'cared', 'career', 'careers', 'caring', 'carolina', 'carpet', 'carry', 'cart', 'case', 'cases', 'catch', 'caucasian', 'cause', 'cd', 'celebrate', 'cell', 'center', 'centered', 'centers', 'central', 'century', 'certain', 'certainly', 'chair', 'chairs', 'challenge', 'challenged', 'challenges', 'challenging', 'chance', 'chances', 'change', 'changed', 'changes', 'changing', 'chapter', 'character', 'characters', 'charge', 'chart', 'charter', 'charts', 'check', 'chicago', 'child', 'childhood', 'children', 'choice', 'choices', 'choose', 'choosing', 'chose', 'chosen', 'chrome', 'chromebook', 'chromebooks', 'circle', 'circumstances', 'citizens', 'city', 'class', 'classes', 'classic', 'classified', 'classmates', 'classroom', 'classrooms', 'classwork', 'clean', 'clear', 'clearly', 'clever', 'climate', 'clipboards', 'close', 'closer', 'clothes', 'clothing', 'club', 'clubs', 'co', 'coach', 'code', 'coding', 'cognitive', 'cold', 'collaborate', 'collaborating', 'collaboration', 'collaborative', 'collaboratively', 'collect', 'collection', 'college', 'color', 'colored', 'colorful', 'colors', 'combination', 'combine', 'come', 'comes', 'comfort', 'comfortable', 'comfortably', 'comfy', 'coming', 'commitment', 'committed', 'common', 'communicate', 'communicating', 'communication', 'communities', 'community', 'compare', 'compassion', 'compassionate', 'compete', 'competition', 'competitive', 'complete', 'completed', 'completely', 'completing', 'complex', 'component', 'components', 'composition', 'comprehend', 'comprehension', 'comprised', 'computer', 'computers', 'concentrate', 'concentration', 'concept', 'concepts', 'concrete', 'conditions', 'conducive', 'conduct', 'confidence', 'confident', 'connect', 'connected', 'connecting', 'connection', 'connections', 'consider', 'consideration', 'considered', 'considering', 'consist', 'consistent', 'consistently', 'consists', 'constant', 'constantly', 'construct', 'construction', 'contained', 'content', 'continually', 'continue', 'continued', 'continues', 'continuing', 'continuously', 'contribute', 'control', 'conversation', 'conversations', 'cooking', 'cool', 'cooperation', 'cooperative', 'cooperatively', 'coordination', 'copies', 'copy', 'core', 'corner', 'correct', 'correctly', 'cost', 'could', 'count', 'counting', 'countries', 'country', 'county', 'couple', 'course', 'courses', 'cover', 'covers', 'cozy', 'craft', 'crave', 'crayons', 'create', 'created', 'creates', 'creating', 'creation', 'creations', 'creative', 'creatively', 'creativity', 'crime', 'critical', 'critically', 'cross', 'crucial', 'cultural', 'culturally', 'culture', 'cultures', 'curiosity', 'curious', 'current', 'currently', 'curricular', 'curriculum', 'cushions', 'cut', 'cuts', 'cutting', 'cycle', 'daily', 'dance', 'dancing', 'data', 'date', 'day', 'days', 'deal', 'decide', 'decided', 'decisions', 'decrease', 'dedicated', 'dedication', 'deep', 'deepen', 'deeper', 'deeply', 'definitely', 'delays', 'demand', 'demands', 'demonstrate', 'department', 'depend', 'depth', 'describe', 'deserve', 'deserves', 'deserving', 'design', 'designated', 'designed', 'designing', 'designs', 'desire', 'desk', 'desks', 'desktop', 'desperate', 'desperately', 'despite', 'details', 'determination', 'determine', 'determined', 'develop', 'developed', 'developing', 'development', 'developmental', 'developmentally', 'device', 'devices', 'diagnosed', 'difference', 'differences', 'different', 'differentiate', 'differentiated', 'differentiation', 'differently', 'difficult', 'difficulties', 'difficulty', 'digital', 'direct', 'directed', 'direction', 'directions', 'directly', 'disabilities', 'disability', 'disabled', 'disadvantage', 'disadvantaged', 'discover', 'discovered', 'discoveries', 'discovering', 'discovery', 'discuss', 'discussing', 'discussion', 'discussions', 'disorder', 'disorders', 'display', 'displayed', 'distracted', 'distracting', 'distraction', 'distractions', 'district', 'districts', 'dive', 'diverse', 'diversity', 'doctors', 'document', 'documents', 'donate', 'donated', 'donating', 'donation', 'donations', 'done', 'donor', 'donors', 'donorschoose', 'door', 'doors', 'dr', 'dramatic', 'draw', 'drawing', 'dream', 'dreamers', 'dreams', 'drive', 'driven', 'dry', 'dual', 'due', 'durable', 'duty', 'dynamic', 'eager', 'eagerness', 'earliest', 'early', 'earn', 'earth', 'ease', 'easel', 'easier', 'easily', 'east', 'easy', 'eat', 'eating', 'economic', 'economically', 'ed', 'edit', 'editing', 'educate', 'education', 'educational', 'educator', 'educators', 'effect', 'effective', 'effectively', 'effects', 'efficient', 'efficiently', 'effort', 'efforts', 'eight', 'eighth', 'either', 'ela', 'electronic', 'elementary', 'elements', 'eligible', 'eliminate', 'ell', 'else', 'embrace', 'emotional', 'emotionally', 'emotions', 'empathy', 'emphasis', 'empower', 'empowered', 'empowering', 'enable', 'encounter', 'encourage', 'encouraged', 'encouragement', 'encourages', 'encouraging', 'end', 'endeavors', 'endless', 'ends', 'energetic', 'energy', 'engage', 'engaged', 'engagement', 'engages', 'engaging', 'engineering', 'engineers', 'english', 'enhance', 'enhanced', 'enjoy', 'enjoyable', 'enjoyed', 'enjoying', 'enjoyment', 'enough', 'enrich', 'enriching', 'enrichment', 'enrolled', 'enrollment', 'ensure', 'enter', 'entering', 'enthusiasm', 'enthusiastic', 'entire', 'environment', 'environmental', 'environments', 'envision', 'equal', 'equipment', 'equipped', 'erase', 'erasers', 'escape', 'esl', 'especially', 'essays', 'essential', 'essentials', 'esteem', 'etc', 'ethnic', 'ethnically', 'ethnicities', 'even', 'event', 'events', 'eventually', 'ever', 'every', 'everyday', 'everyone', 'everything', 'everywhere', 'evidence', 'exactly', 'example', 'examples', 'excel', 'excellence', 'excellent', 'exceptional', 'excess', 'excite', 'excited', 'excitement', 'exciting', 'exercise', 'exercises', 'expand', 'expanding', 'expect', 'expectations', 'expected', 'expensive', 'experience', 'experienced', 'experiences', 'experiencing', 'experiment', 'experiments', 'explain', 'exploration', 'explore', 'explorers', 'exploring', 'expose', 'exposed', 'exposing', 'exposure', 'express', 'expressed', 'expression', 'extend', 'extended', 'extra', 'extreme', 'extremely', 'eye', 'eyes', 'fabulous', 'face', 'faced', 'faces', 'facilitate', 'facing', 'fact', 'factors', 'facts', 'fair', 'fall', 'falling', 'familiar', 'families', 'family', 'fantastic', 'far', 'farming', 'fast', 'faster', 'favorite', 'fear', 'features', 'feed', 'feedback', 'feel', 'feeling', 'feelings', 'feels', 'feet', 'felt', 'fiction', 'fidget', 'field', 'fields', 'fifth', 'figure', 'fill', 'filled', 'final', 'finally', 'financial', 'financially', 'find', 'finding', 'findings', 'fine', 'fingertips', 'finish', 'finished', 'fire', 'first', 'fit', 'fitness', 'fits', 'five', 'flexibility', 'flexible', 'floor', 'florida', 'flourish', 'flow', 'fluency', 'fluent', 'focus', 'focused', 'focuses', 'focusing', 'folders', 'follow', 'following', 'food', 'foods', 'foot', 'football', 'force', 'forever', 'forget', 'form', 'formal', 'format', 'forms', 'forth', 'fortunate', 'forward', 'foster', 'fosters', 'found', 'foundation', 'foundational', 'four', 'fourth', 'fractions', 'free', 'freedom', 'freely', 'frequent', 'frequently', 'fresh', 'friday', 'friend', 'friendly', 'friends', 'front', 'frustrated', 'frustration', 'fulfill', 'full', 'fullest', 'fully', 'fun', 'function', 'functional', 'functioning', 'functions', 'fund', 'fundamental', 'funded', 'funding', 'funds', 'funny', 'furniture', 'furthermore', 'future', 'futures', 'gain', 'gaining', 'gains', 'game', 'games', 'gap', 'gaps', 'garden', 'gather', 'general', 'generation', 'generations', 'generosity', 'generous', 'genres', 'geometry', 'get', 'gets', 'getting', 'gift', 'gifted', 'girls', 'give', 'given', 'gives', 'giving', 'global', 'glue', 'go', 'goal', 'goals', 'goes', 'going', 'gone', 'good', 'google', 'got', 'government', 'grab', 'grade', 'grader', 'graders', 'grades', 'graduate', 'graduation', 'grammar', 'grandparents', 'grant', 'granted', 'graphic', 'grasp', 'grateful', 'great', 'greater', 'greatest', 'greatly', 'greatness', 'green', 'greet', 'gross', 'ground', 'group', 'groups', 'grow', 'growing', 'grown', 'growth', 'guidance', 'guide', 'guided', 'gym', 'habits', 'half', 'hand', 'handle', 'hands', 'happen', 'happening', 'happens', 'happy', 'hard', 'harder', 'hardest', 'hardships', 'hardworking', 'head', 'headphones', 'health', 'healthier', 'healthy', 'hear', 'heard', 'hearing', 'heart', 'hearts', 'heavy', 'held', 'hello', 'help', 'helped', 'helpful', 'helping', 'helps', 'high', 'higher', 'highest', 'highlight', 'highly', 'hispanic', 'historical', 'history', 'hit', 'hokki', 'hold', 'holding', 'home', 'homeless', 'homes', 'homework', 'honor', 'hope', 'hopeful', 'hopefully', 'hopes', 'hoping', 'hot', 'hour', 'hours', 'house', 'household', 'households', 'houses', 'housing', 'however', 'huge', 'human', 'hundred', 'hundreds', 'hunger', 'hungry', 'idea', 'ideal', 'ideas', 'identified', 'identify', 'iep', 'ignite', 'illustrations', 'images', 'imagination', 'imaginations', 'imaginative', 'imagine', 'immediate', 'immediately', 'immersion', 'immigrant', 'immigrants', 'impact', 'impairments', 'imperative', 'implement', 'implemented', 'implementing', 'importance', 'important', 'importantly', 'impossible', 'impoverished', 'improve', 'improved', 'improvement', 'improves', 'improving', 'incentive', 'include', 'included', 'includes', 'including', 'inclusion', 'inclusive', 'income', 'incorporate', 'incorporated', 'incorporating', 'increase', 'increased', 'increases', 'increasing', 'increasingly', 'incredible', 'incredibly', 'independence', 'independent', 'independently', 'individual', 'individualized', 'individually', 'individuals', 'indoor', 'information', 'informational', 'initiative', 'ink', 'inner', 'innovation', 'innovative', 'input', 'inquiry', 'inquisitive', 'inside', 'inspiration', 'inspire', 'inspired', 'inspires', 'inspiring', 'instant', 'instead', 'instill', 'instruction', 'instructional', 'instrument', 'instruments', 'integral', 'integrate', 'integrated', 'integrating', 'integration', 'intellectual', 'intelligent', 'interact', 'interacting', 'interaction', 'interactions', 'interactive', 'interest', 'interested', 'interesting', 'interests', 'international', 'internet', 'intervention', 'interventions', 'introduce', 'introduced', 'introducing', 'invaluable', 'invested', 'investigate', 'investigations', 'investment', 'inviting', 'involve', 'involved', 'involvement', 'involves', 'ipad', 'ipads', 'issue', 'issues', 'item', 'items', 'job', 'jobs', 'join', 'journal', 'journals', 'journey', 'joy', 'jump', 'junior', 'keep', 'keeping', 'keeps', 'key', 'keyboard', 'kid', 'kiddos', 'kids', 'kind', 'kindergarten', 'kindergarteners', 'kindergartners', 'kindle', 'kindness', 'kinds', 'kinesthetic', 'kit', 'kits', 'knew', 'knit', 'know', 'knowing', 'knowledge', 'known', 'knows', 'lab', 'labeled', 'labs', 'lack', 'lacking', 'lacks', 'language', 'languages', 'lap', 'laptop', 'laptops', 'large', 'larger', 'largest', 'last', 'lasting', 'lastly', 'later', 'latest', 'latino', 'laugh', 'lay', 'lead', 'leader', 'leaders', 'leadership', 'leading', 'leads', 'learn', 'learned', 'learner', 'learners', 'learning', 'learns', 'least', 'leave', 'leaves', 'leaving', 'led', 'left', 'lego', 'legos', 'legs', 'less', 'lesson', 'lessons', 'let', 'letter', 'letters', 'level', 'leveled', 'levels', 'libraries', 'library', 'life', 'lifelong', 'lifestyle', 'lifetime', 'light', 'lights', 'like', 'likely', 'limit', 'limited', 'limits', 'line', 'lines', 'list', 'listen', 'listening', 'literacy', 'literally', 'literary', 'literate', 'literature', 'little', 'live', 'lively', 'lives', 'living', 'local', 'located', 'location', 'long', 'longer', 'look', 'looking', 'looks', 'los', 'lose', 'lost', 'lot', 'lots', 'loud', 'love', 'loved', 'loves', 'loving', 'low', 'lower', 'lowest', 'lucky', 'lunch', 'lunches', 'machine', 'made', 'magazine', 'magazines', 'magic', 'magical', 'magnet', 'magnetic', 'main', 'mainly', 'maintain', 'maintaining', 'major', 'majority', 'make', 'maker', 'makerspace', 'makes', 'making', 'manage', 'management', 'manipulate', 'manipulative', 'manipulatives', 'manner', 'many', 'markers', 'master', 'mastery', 'match', 'material', 'materials', 'math', 'mathematical', 'mathematicians', 'mathematics', 'mats', 'matter', 'maximize', 'may', 'maybe', 'meal', 'meals', 'mean', 'meaning', 'meaningful', 'means', 'measure', 'media', 'meet', 'meeting', 'meetings', 'meets', 'member', 'members', 'memorable', 'memories', 'memory', 'men', 'mental', 'met', 'method', 'methods', 'mexico', 'middle', 'might', 'miles', 'military', 'mind', 'minds', 'mindset', 'mine', 'mini', 'minimal', 'minis', 'minority', 'minute', 'minutes', 'miss', 'missing', 'mission', 'mistakes', 'mix', 'mixed', 'mobile', 'model', 'modeling', 'models', 'moderate', 'modern', 'moment', 'moments', 'money', 'monitor', 'month', 'months', 'morning', 'mostly', 'motion', 'motivate', 'motivated', 'motivates', 'motivating', 'motivation', 'motor', 'motto', 'mouse', 'move', 'moved', 'movement', 'movements', 'moving', 'mrs', 'ms', 'much', 'multi', 'multicultural', 'multiple', 'multiplication', 'multitude', 'muscles', 'music', 'musical', 'musicians', 'must', 'name', 'names', 'nation', 'national', 'native', 'natural', 'naturally', 'nature', 'navigate', 'near', 'nearly', 'necessary', 'necessities', 'necessity', 'need', 'needed', 'needing', 'needs', 'negative', 'neighborhood', 'neighborhoods', 'never', 'new', 'newly', 'news', 'next', 'nice', 'night', 'nine', 'no', 'noise', 'non', 'nonfiction', 'normal', 'normally', 'north', 'not', 'note', 'notebook', 'notebooks', 'notes', 'nothing', 'notice', 'noticed', 'novel', 'novels', 'number', 'numbers', 'numerous', 'nurturing', 'nutrition', 'objectives', 'objects', 'observe', 'obstacle', 'obstacles', 'obtain', 'occur', 'odds', 'offer', 'offered', 'offering', 'offers', 'office', 'often', 'old', 'older', 'olds', 'one', 'ones', 'online', 'onto', 'open', 'opened', 'opening', 'opens', 'opinions', 'opportunities', 'opportunity', 'option', 'options', 'oral', 'order', 'org', 'organization', 'organizational', 'organize', 'organized', 'original', 'osmo', 'others', 'otherwise', 'outdated', 'outdoor', 'outdoors', 'outlet', 'outside', 'overall', 'overcome', 'overwhelming', 'ownership', 'pace', 'paced', 'pads', 'page', 'pages', 'paint', 'painting', 'pair', 'pairs', 'paper', 'papers', 'parent', 'parental', 'parents', 'park', 'part', 'participate', 'participating', 'participation', 'particular', 'particularly', 'partner', 'partners', 'parts', 'pass', 'passion', 'passionate', 'past', 'path', 'patterns', 'pay', 'pe', 'peer', 'peers', 'pen', 'pencil', 'pencils', 'pens', 'people', 'per', 'percent', 'percentage', 'perfect', 'perform', 'performance', 'performances', 'performing', 'period', 'periods', 'perseverance', 'persevere', 'person', 'personal', 'personalities', 'personalized', 'personally', 'perspective', 'perspectives', 'philadelphia', 'phone', 'phones', 'phonics', 'photos', 'physical', 'physically', 'pick', 'picture', 'pictures', 'piece', 'pieces', 'pillows', 'place', 'placed', 'places', 'plan', 'planning', 'plans', 'plant', 'plants', 'plastic', 'play', 'played', 'player', 'players', 'playground', 'playing', 'plays', 'please', 'pleasure', 'plenty', 'plus', 'pocket', 'pockets', 'point', 'points', 'poor', 'poorest', 'popular', 'population', 'portable', 'portion', 'position', 'positive', 'positively', 'possibilities', 'possible', 'possibly', 'post', 'posters', 'posture', 'potential', 'poverty', 'power', 'powerful', 'practice', 'practices', 'practicing', 'pre', 'precious', 'prefer', 'prek', 'prepare', 'prepared', 'preparing', 'preschool', 'present', 'presentation', 'presentations', 'presented', 'pretty', 'prevent', 'previous', 'previously', 'price', 'priced', 'pride', 'primarily', 'primary', 'print', 'printed', 'printer', 'printing', 'prior', 'priority', 'privilege', 'privileged', 'problem', 'problems', 'process', 'processes', 'processing', 'produce', 'product', 'production', 'productive', 'productivity', 'products', 'professional', 'proficiency', 'proficient', 'program', 'programming', 'programs', 'progress', 'project', 'projector', 'projects', 'promote', 'promotes', 'promoting', 'proper', 'properly', 'protect', 'proud', 'prove', 'proven', 'provide', 'provided', 'provides', 'providing', 'public', 'publish', 'pull', 'purchase', 'purchased', 'purchasing', 'purpose', 'purposes', 'pursue', 'push', 'put', 'puts', 'putting', 'puzzles', 'qualifies', 'qualify', 'qualifying', 'quality', 'question', 'questions', 'quick', 'quickly', 'quiet', 'quietly', 'quite', 'quote', 'race', 'raise', 'raised', 'range', 'ranging', 'rarely', 'rate', 'rates', 'rather', 'reach', 'reaching', 'read', 'reader', 'readers', 'readily', 'readiness', 'reading', 'reads', 'ready', 'real', 'reality', 'realize', 'realized', 'really', 'reason', 'reasons', 'receive', 'received', 'receives', 'receiving', 'recent', 'recently', 'recess', 'recognition', 'recognize', 'record', 'recording', 'reduce', 'reduced', 'reference', 'reflect', 'regardless', 'regular', 'regularly', 'reinforce', 'reinforcement', 'relate', 'related', 'relationship', 'relationships', 'relax', 'release', 'relevant', 'reliable', 'reluctant', 'rely', 'remain', 'remaining', 'remember', 'remind', 'replace', 'report', 'reports', 'represent', 'represented', 'request', 'requested', 'requesting', 'require', 'required', 'requirements', 'requires', 'research', 'researching', 'resilient', 'resource', 'resources', 'respect', 'respectful', 'respond', 'response', 'responsibility', 'responsible', 'rest', 'result', 'results', 'retain', 'return', 'review', 'reward', 'rewarding', 'rich', 'right', 'rigor', 'rigorous', 'rise', 'risk', 'risks', 'road', 'robot', 'robotics', 'robots', 'rock', 'role', 'roll', 'room', 'rotate', 'rotation', 'rotations', 'rough', 'round', 'rounded', 'routine', 'routines', 'rug', 'rules', 'run', 'running', 'rural', 'sadly', 'safe', 'safely', 'safety', 'said', 'san', 'sand', 'save', 'savvy', 'saw', 'say', 'saying', 'says', 'schedule', 'scholars', 'scholastic', 'school', 'schooling', 'schools', 'science', 'scientific', 'scientists', 'scissors', 'scores', 'screen', 'search', 'searching', 'season', 'seat', 'seated', 'seating', 'seats', 'second', 'section', 'secure', 'see', 'seeing', 'seek', 'seeking', 'seem', 'seems', 'seen', 'select', 'selected', 'selection', 'self', 'semester', 'send', 'sense', 'senses', 'sensory', 'sentence', 'sentences', 'separate', 'series', 'serve', 'serves', 'service', 'services', 'serving', 'sessions', 'set', 'sets', 'setting', 'settings', 'seuss', 'seven', 'seventh', 'several', 'severe', 'shape', 'shapes', 'share', 'shared', 'sharing', 'sharpener', 'sheets', 'shelves', 'shine', 'shoes', 'short', 'show', 'showcase', 'showing', 'shown', 'shows', 'siblings', 'side', 'sight', 'sign', 'significant', 'significantly', 'silly', 'similar', 'simple', 'simply', 'simultaneously', 'since', 'sing', 'singing', 'single', 'sit', 'site', 'sites', 'sitting', 'situation', 'situations', 'six', 'sixth', 'size', 'sizes', 'skill', 'skills', 'small', 'smaller', 'smart', 'smile', 'smiles', 'smiling', 'snack', 'snacks', 'soak', 'soar', 'soccer', 'social', 'socially', 'society', 'socio', 'socioeconomic', 'soft', 'software', 'solid', 'solution', 'solutions', 'solve', 'solvers', 'solving', 'someone', 'something', 'sometimes', 'song', 'songs', 'soon', 'sort', 'sound', 'sounds', 'source', 'sources', 'south', 'southern', 'space', 'spaces', 'span', 'spanish', 'spark', 'speak', 'speakers', 'speaking', 'special', 'specific', 'specifically', 'spectrum', 'speech', 'speed', 'spelling', 'spend', 'spending', 'spent', 'spirit', 'spite', 'spoken', 'sponges', 'sport', 'sports', 'spot', 'spread', 'spring', 'stability', 'stable', 'staff', 'stage', 'stamina', 'stand', 'standard', 'standardized', 'standards', 'standing', 'stands', 'stars', 'start', 'started', 'starting', 'starts', 'state', 'states', 'station', 'stations', 'status', 'stay', 'staying', 'steam', 'stem', 'step', 'steps', 'sticks', 'still', 'stimulate', 'stimulation', 'stock', 'stool', 'stools', 'stop', 'storage', 'store', 'stories', 'story', 'strategies', 'strategy', 'strength', 'strengthen', 'strengths', 'stress', 'stretch', 'stricken', 'strive', 'strives', 'striving', 'strong', 'stronger', 'structure', 'structured', 'structures', 'struggle', 'struggles', 'struggling', 'student', 'studies', 'study', 'studying', 'sturdy', 'style', 'styles', 'subject', 'subjects', 'subtraction', 'suburban', 'succeed', 'success', 'successes', 'successful', 'successfully', 'summer', 'super', 'supplement', 'supplies', 'supply', 'support', 'supported', 'supporting', 'supportive', 'supports', 'sure', 'surface', 'surprise', 'surrounded', 'surrounding', 'sweet', 'system', 'systems', 'table', 'tables', 'tablet', 'tablets', 'tackle', 'tactile', 'take', 'taken', 'takes', 'taking', 'talent', 'talented', 'talents', 'talk', 'talking', 'tape', 'target', 'task', 'tasks', 'taught', 'teach', 'teacher', 'teachers', 'teaches', 'teaching', 'team', 'teams', 'teamwork', 'tech', 'techniques', 'technological', 'technologically', 'technologies', 'technology', 'tell', 'telling', 'ten', 'tend', 'term', 'terms', 'test', 'testing', 'tests', 'texas', 'text', 'textbook', 'textbooks', 'texts', 'thank', 'thankful', 'thanks', 'theme', 'themes', 'therapy', 'therefore', 'thing', 'things', 'think', 'thinkers', 'thinking', 'third', 'thirst', 'thirty', 'though', 'thought', 'thoughtful', 'thoughts', 'three', 'thrilled', 'thrive', 'throughout', 'thus', 'tight', 'tiles', 'time', 'times', 'tired', 'title', 'titles', 'today', 'together', 'told', 'tomorrow', 'took', 'tool', 'tools', 'top', 'topic', 'topics', 'total', 'touch', 'tough', 'toward', 'towards', 'town', 'toys', 'track', 'traditional', 'training', 'transfer', 'transform', 'transition', 'trauma', 'travel', 'treat', 'tremendous', 'tremendously', 'tried', 'trip', 'trips', 'trouble', 'true', 'truly', 'try', 'trying', 'turn', 'turning', 'turns', 'tv', 'twenty', 'twice', 'two', 'type', 'types', 'typical', 'typically', 'typing', 'ultimate', 'ultimately', 'unable', 'uncomfortable', 'understand', 'understanding', 'unfortunately', 'unique', 'unit', 'united', 'units', 'university', 'upcoming', 'updated', 'upon', 'upper', 'urban', 'us', 'use', 'used', 'useful', 'uses', 'using', 'usually', 'utilize', 'utilized', 'utilizing', 'valuable', 'value', 'valued', 'values', 'varied', 'variety', 'various', 'vary', 'varying', 'vast', 'vegetables', 'verbal', 'via', 'vibrant', 'video', 'videos', 'view', 'violence', 'virtual', 'vision', 'visit', 'visual', 'visualize', 'visually', 'visuals', 'vital', 'vocabulary', 'voice', 'voices', 'wait', 'waiting', 'walk', 'walking', 'walks', 'wall', 'walls', 'want', 'wanted', 'wanting', 'wants', 'warm', 'washington', 'watch', 'watching', 'water', 'way', 'ways', 'wear', 'weather', 'web', 'website', 'websites', 'week', 'weekend', 'weekends', 'weekly', 'weeks', 'weight', 'welcome', 'welcoming', 'well', 'wellness', 'went', 'west', 'whatever', 'whenever', 'whether', 'white', 'whiteboard', 'whiteboards', 'whole', 'whose', 'wide', 'wiggle', 'wiggles', 'wiggly', 'willing', 'willingness', 'win', 'winter', 'wireless', 'wish', 'within', 'without', 'wobble', 'wonder', 'wonderful', 'word', 'words', 'work', 'worked', 'workers', 'working', 'works', 'worksheets', 'workshop', 'world', 'worlds', 'worn', 'worry', 'worth', 'would', 'write', 'writer', 'writers', 'writing', 'written', 'year', 'years', 'yes', 'yet', 'yoga', 'york', 'young', 'younger', 'youth', '21st', 'active', 'art', 'book', 'books', 'build', 'building', 'center', 'centers', 'century', 'chairs', 'chromebooks', 'class', 'classroom', 'coding', 'create', 'creating', 'creative', 'day', 'education', 'engaging', 'first', 'flexible', 'focus', 'fun', 'future', 'games', 'get', 'getting', 'go', 'good', 'grade', 'graders', 'great', 'hands', 'headphones', 'healthy', 'hear', 'help', 'home', 'interactive', 'ipad', 'ipads', 'keep', 'kids', 'kindergarten', 'language', 'learn', 'learners', 'learning', 'let', 'library', 'life', 'like', 'listening', 'literacy', 'little', 'love', 'make', 'making', 'materials', 'math', 'minds', 'move', 'movement', 'moving', 'music', 'need', 'needed', 'needs', 'new', 'not', 'oh', 'one', 'part', 'place', 'play', 'please', 'project', 'read', 'readers', 'reading', 'ready', 'room', 'school', 'science', 'seating', 'sensory', 'skills', 'special', 'steam', 'stem', 'student', 'students', 'success', 'supplies', 'tablets', 'tech', 'technology', 'time', 'tools', 'us', 'using', 'want', 'way', 'wiggle', 'wobble', 'work', 'world', 'writing', 'year', 'young']\n"
     ]
    }
   ],
   "source": [
    "from sklearn.feature_extraction.text import TfidfVectorizer\n",
    "from sklearn.preprocessing import FunctionTransformer\n",
    "from sklearn.pipeline import FeatureUnion, Pipeline\n",
    "dataset_tfidf = dataset_encoded[['cleaned_essays','cleaned_titles']]\n",
    "transformer = FeatureUnion([\n",
    "                ('cleaned_eassay_tfidf', \n",
    "                  Pipeline([('extract_field',\n",
    "                              FunctionTransformer(lambda attr: attr['cleaned_essays'], \n",
    "                                                  validate=False)),\n",
    "                            ('tfidf', \n",
    "                              TfidfVectorizer(min_df=0.005,max_df=0.90))])),\n",
    "                ('cleaned_title_tfidf', \n",
    "                  Pipeline([('extract_field', \n",
    "                              FunctionTransformer(lambda attr: attr['cleaned_titles'], \n",
    "                                                  validate=False)),\n",
    "                            ('tfidf', \n",
    "                              TfidfVectorizer(min_df=0.005,max_df=0.90))]))]) \n",
    "\n",
    "transformer.fit(dataset_tfidf)\n",
    "essay_vocab = transformer.transformer_list[0][1].steps[1][1].get_feature_names() \n",
    "title_vocab = transformer.transformer_list[1][1].steps[1][1].get_feature_names()\n",
    "vocab = essay_vocab + title_vocab\n",
    "print(vocab)"
   ]
  },
  {
   "cell_type": "code",
   "execution_count": 77,
   "metadata": {},
   "outputs": [
    {
     "data": {
      "text/html": [
       "<div>\n",
       "<style scoped>\n",
       "    .dataframe tbody tr th:only-of-type {\n",
       "        vertical-align: middle;\n",
       "    }\n",
       "\n",
       "    .dataframe tbody tr th {\n",
       "        vertical-align: top;\n",
       "    }\n",
       "\n",
       "    .dataframe thead th {\n",
       "        text-align: right;\n",
       "    }\n",
       "</style>\n",
       "<table border=\"1\" class=\"dataframe\">\n",
       "  <thead>\n",
       "    <tr style=\"text-align: right;\">\n",
       "      <th></th>\n",
       "      <th>000</th>\n",
       "      <th>10</th>\n",
       "      <th>100</th>\n",
       "      <th>11</th>\n",
       "      <th>12</th>\n",
       "      <th>12th</th>\n",
       "      <th>13</th>\n",
       "      <th>14</th>\n",
       "      <th>15</th>\n",
       "      <th>16</th>\n",
       "      <th>...</th>\n",
       "      <th>using</th>\n",
       "      <th>want</th>\n",
       "      <th>way</th>\n",
       "      <th>wiggle</th>\n",
       "      <th>wobble</th>\n",
       "      <th>work</th>\n",
       "      <th>world</th>\n",
       "      <th>writing</th>\n",
       "      <th>year</th>\n",
       "      <th>young</th>\n",
       "    </tr>\n",
       "  </thead>\n",
       "  <tbody>\n",
       "    <tr>\n",
       "      <th>0</th>\n",
       "      <td>0.0</td>\n",
       "      <td>0.0</td>\n",
       "      <td>0.0</td>\n",
       "      <td>0.0</td>\n",
       "      <td>0.0</td>\n",
       "      <td>0.0</td>\n",
       "      <td>0.0</td>\n",
       "      <td>0.0</td>\n",
       "      <td>0.0</td>\n",
       "      <td>0.0</td>\n",
       "      <td>...</td>\n",
       "      <td>0.0</td>\n",
       "      <td>0.0</td>\n",
       "      <td>0.0</td>\n",
       "      <td>0.0</td>\n",
       "      <td>0.0</td>\n",
       "      <td>0.0</td>\n",
       "      <td>0.0</td>\n",
       "      <td>0.0</td>\n",
       "      <td>0.0</td>\n",
       "      <td>0.0</td>\n",
       "    </tr>\n",
       "    <tr>\n",
       "      <th>1</th>\n",
       "      <td>0.0</td>\n",
       "      <td>0.0</td>\n",
       "      <td>0.0</td>\n",
       "      <td>0.0</td>\n",
       "      <td>0.0</td>\n",
       "      <td>0.0</td>\n",
       "      <td>0.0</td>\n",
       "      <td>0.0</td>\n",
       "      <td>0.0</td>\n",
       "      <td>0.0</td>\n",
       "      <td>...</td>\n",
       "      <td>0.0</td>\n",
       "      <td>0.0</td>\n",
       "      <td>0.0</td>\n",
       "      <td>0.0</td>\n",
       "      <td>0.0</td>\n",
       "      <td>0.0</td>\n",
       "      <td>0.0</td>\n",
       "      <td>0.0</td>\n",
       "      <td>0.0</td>\n",
       "      <td>0.0</td>\n",
       "    </tr>\n",
       "    <tr>\n",
       "      <th>2</th>\n",
       "      <td>0.0</td>\n",
       "      <td>0.0</td>\n",
       "      <td>0.0</td>\n",
       "      <td>0.0</td>\n",
       "      <td>0.0</td>\n",
       "      <td>0.0</td>\n",
       "      <td>0.0</td>\n",
       "      <td>0.0</td>\n",
       "      <td>0.0</td>\n",
       "      <td>0.0</td>\n",
       "      <td>...</td>\n",
       "      <td>0.0</td>\n",
       "      <td>0.0</td>\n",
       "      <td>0.0</td>\n",
       "      <td>0.0</td>\n",
       "      <td>0.0</td>\n",
       "      <td>0.0</td>\n",
       "      <td>0.0</td>\n",
       "      <td>0.0</td>\n",
       "      <td>0.0</td>\n",
       "      <td>0.0</td>\n",
       "    </tr>\n",
       "    <tr>\n",
       "      <th>3</th>\n",
       "      <td>0.0</td>\n",
       "      <td>0.0</td>\n",
       "      <td>0.0</td>\n",
       "      <td>0.0</td>\n",
       "      <td>0.0</td>\n",
       "      <td>0.0</td>\n",
       "      <td>0.0</td>\n",
       "      <td>0.0</td>\n",
       "      <td>0.0</td>\n",
       "      <td>0.0</td>\n",
       "      <td>...</td>\n",
       "      <td>0.0</td>\n",
       "      <td>0.0</td>\n",
       "      <td>0.0</td>\n",
       "      <td>0.0</td>\n",
       "      <td>0.0</td>\n",
       "      <td>0.0</td>\n",
       "      <td>0.0</td>\n",
       "      <td>0.0</td>\n",
       "      <td>0.0</td>\n",
       "      <td>0.0</td>\n",
       "    </tr>\n",
       "    <tr>\n",
       "      <th>4</th>\n",
       "      <td>0.0</td>\n",
       "      <td>0.0</td>\n",
       "      <td>0.0</td>\n",
       "      <td>0.0</td>\n",
       "      <td>0.0</td>\n",
       "      <td>0.0</td>\n",
       "      <td>0.0</td>\n",
       "      <td>0.0</td>\n",
       "      <td>0.0</td>\n",
       "      <td>0.0</td>\n",
       "      <td>...</td>\n",
       "      <td>0.0</td>\n",
       "      <td>0.0</td>\n",
       "      <td>0.0</td>\n",
       "      <td>0.0</td>\n",
       "      <td>0.0</td>\n",
       "      <td>0.0</td>\n",
       "      <td>0.0</td>\n",
       "      <td>0.0</td>\n",
       "      <td>0.0</td>\n",
       "      <td>0.0</td>\n",
       "    </tr>\n",
       "  </tbody>\n",
       "</table>\n",
       "<p>5 rows × 2591 columns</p>\n",
       "</div>"
      ],
      "text/plain": [
       "   000   10  100   11   12  12th   13   14   15   16  ...  using  want  way  \\\n",
       "0  0.0  0.0  0.0  0.0  0.0   0.0  0.0  0.0  0.0  0.0  ...    0.0   0.0  0.0   \n",
       "1  0.0  0.0  0.0  0.0  0.0   0.0  0.0  0.0  0.0  0.0  ...    0.0   0.0  0.0   \n",
       "2  0.0  0.0  0.0  0.0  0.0   0.0  0.0  0.0  0.0  0.0  ...    0.0   0.0  0.0   \n",
       "3  0.0  0.0  0.0  0.0  0.0   0.0  0.0  0.0  0.0  0.0  ...    0.0   0.0  0.0   \n",
       "4  0.0  0.0  0.0  0.0  0.0   0.0  0.0  0.0  0.0  0.0  ...    0.0   0.0  0.0   \n",
       "\n",
       "   wiggle  wobble  work  world  writing  year  young  \n",
       "0     0.0     0.0   0.0    0.0      0.0   0.0    0.0  \n",
       "1     0.0     0.0   0.0    0.0      0.0   0.0    0.0  \n",
       "2     0.0     0.0   0.0    0.0      0.0   0.0    0.0  \n",
       "3     0.0     0.0   0.0    0.0      0.0   0.0    0.0  \n",
       "4     0.0     0.0   0.0    0.0      0.0   0.0    0.0  \n",
       "\n",
       "[5 rows x 2591 columns]"
      ]
     },
     "execution_count": 77,
     "metadata": {},
     "output_type": "execute_result"
    }
   ],
   "source": [
    "dataset_vec_tfidf = pd.DataFrame(transformer.transform(dataset_tfidf).toarray(), columns=vocab)\n",
    "dataset_vec_tfidf.head(5)"
   ]
  },
  {
   "cell_type": "code",
   "execution_count": 78,
   "metadata": {},
   "outputs": [
    {
     "data": {
      "text/html": [
       "<div>\n",
       "<style scoped>\n",
       "    .dataframe tbody tr th:only-of-type {\n",
       "        vertical-align: middle;\n",
       "    }\n",
       "\n",
       "    .dataframe tbody tr th {\n",
       "        vertical-align: top;\n",
       "    }\n",
       "\n",
       "    .dataframe thead th {\n",
       "        text-align: right;\n",
       "    }\n",
       "</style>\n",
       "<table border=\"1\" class=\"dataframe\">\n",
       "  <thead>\n",
       "    <tr style=\"text-align: right;\">\n",
       "      <th></th>\n",
       "      <th>000</th>\n",
       "      <th>10</th>\n",
       "      <th>100</th>\n",
       "      <th>11</th>\n",
       "      <th>12</th>\n",
       "      <th>12th</th>\n",
       "      <th>13</th>\n",
       "      <th>14</th>\n",
       "      <th>15</th>\n",
       "      <th>16</th>\n",
       "      <th>...</th>\n",
       "      <th>project_subject_subcategories_socialsciences_visualarts</th>\n",
       "      <th>project_subject_subcategories_specialneeds</th>\n",
       "      <th>project_subject_subcategories_specialneeds_teamsports</th>\n",
       "      <th>project_subject_subcategories_specialneeds_visualarts</th>\n",
       "      <th>project_subject_subcategories_specialneeds_warmth_care_hunger</th>\n",
       "      <th>project_subject_subcategories_teamsports</th>\n",
       "      <th>project_subject_subcategories_teamsports_visualarts</th>\n",
       "      <th>project_subject_subcategories_visualarts</th>\n",
       "      <th>project_subject_subcategories_visualarts_warmth_care_hunger</th>\n",
       "      <th>project_subject_subcategories_warmth_care_hunger</th>\n",
       "    </tr>\n",
       "  </thead>\n",
       "  <tbody>\n",
       "    <tr>\n",
       "      <th>0</th>\n",
       "      <td>0.0</td>\n",
       "      <td>0.0</td>\n",
       "      <td>0.0</td>\n",
       "      <td>0.0</td>\n",
       "      <td>0.0</td>\n",
       "      <td>0.0</td>\n",
       "      <td>0.0</td>\n",
       "      <td>0.0</td>\n",
       "      <td>0.0</td>\n",
       "      <td>0.0</td>\n",
       "      <td>...</td>\n",
       "      <td>0</td>\n",
       "      <td>0</td>\n",
       "      <td>0</td>\n",
       "      <td>0</td>\n",
       "      <td>0</td>\n",
       "      <td>0</td>\n",
       "      <td>0</td>\n",
       "      <td>0</td>\n",
       "      <td>0</td>\n",
       "      <td>0</td>\n",
       "    </tr>\n",
       "    <tr>\n",
       "      <th>1</th>\n",
       "      <td>0.0</td>\n",
       "      <td>0.0</td>\n",
       "      <td>0.0</td>\n",
       "      <td>0.0</td>\n",
       "      <td>0.0</td>\n",
       "      <td>0.0</td>\n",
       "      <td>0.0</td>\n",
       "      <td>0.0</td>\n",
       "      <td>0.0</td>\n",
       "      <td>0.0</td>\n",
       "      <td>...</td>\n",
       "      <td>0</td>\n",
       "      <td>0</td>\n",
       "      <td>0</td>\n",
       "      <td>0</td>\n",
       "      <td>0</td>\n",
       "      <td>0</td>\n",
       "      <td>0</td>\n",
       "      <td>0</td>\n",
       "      <td>0</td>\n",
       "      <td>0</td>\n",
       "    </tr>\n",
       "    <tr>\n",
       "      <th>2</th>\n",
       "      <td>0.0</td>\n",
       "      <td>0.0</td>\n",
       "      <td>0.0</td>\n",
       "      <td>0.0</td>\n",
       "      <td>0.0</td>\n",
       "      <td>0.0</td>\n",
       "      <td>0.0</td>\n",
       "      <td>0.0</td>\n",
       "      <td>0.0</td>\n",
       "      <td>0.0</td>\n",
       "      <td>...</td>\n",
       "      <td>0</td>\n",
       "      <td>0</td>\n",
       "      <td>0</td>\n",
       "      <td>0</td>\n",
       "      <td>0</td>\n",
       "      <td>0</td>\n",
       "      <td>0</td>\n",
       "      <td>0</td>\n",
       "      <td>0</td>\n",
       "      <td>0</td>\n",
       "    </tr>\n",
       "    <tr>\n",
       "      <th>3</th>\n",
       "      <td>0.0</td>\n",
       "      <td>0.0</td>\n",
       "      <td>0.0</td>\n",
       "      <td>0.0</td>\n",
       "      <td>0.0</td>\n",
       "      <td>0.0</td>\n",
       "      <td>0.0</td>\n",
       "      <td>0.0</td>\n",
       "      <td>0.0</td>\n",
       "      <td>0.0</td>\n",
       "      <td>...</td>\n",
       "      <td>0</td>\n",
       "      <td>0</td>\n",
       "      <td>0</td>\n",
       "      <td>0</td>\n",
       "      <td>0</td>\n",
       "      <td>0</td>\n",
       "      <td>0</td>\n",
       "      <td>0</td>\n",
       "      <td>0</td>\n",
       "      <td>0</td>\n",
       "    </tr>\n",
       "    <tr>\n",
       "      <th>4</th>\n",
       "      <td>0.0</td>\n",
       "      <td>0.0</td>\n",
       "      <td>0.0</td>\n",
       "      <td>0.0</td>\n",
       "      <td>0.0</td>\n",
       "      <td>0.0</td>\n",
       "      <td>0.0</td>\n",
       "      <td>0.0</td>\n",
       "      <td>0.0</td>\n",
       "      <td>0.0</td>\n",
       "      <td>...</td>\n",
       "      <td>0</td>\n",
       "      <td>0</td>\n",
       "      <td>0</td>\n",
       "      <td>0</td>\n",
       "      <td>0</td>\n",
       "      <td>0</td>\n",
       "      <td>0</td>\n",
       "      <td>0</td>\n",
       "      <td>0</td>\n",
       "      <td>0</td>\n",
       "    </tr>\n",
       "  </tbody>\n",
       "</table>\n",
       "<p>5 rows × 3103 columns</p>\n",
       "</div>"
      ],
      "text/plain": [
       "   000   10  100   11   12  12th   13   14   15   16  ...  \\\n",
       "0  0.0  0.0  0.0  0.0  0.0   0.0  0.0  0.0  0.0  0.0  ...   \n",
       "1  0.0  0.0  0.0  0.0  0.0   0.0  0.0  0.0  0.0  0.0  ...   \n",
       "2  0.0  0.0  0.0  0.0  0.0   0.0  0.0  0.0  0.0  0.0  ...   \n",
       "3  0.0  0.0  0.0  0.0  0.0   0.0  0.0  0.0  0.0  0.0  ...   \n",
       "4  0.0  0.0  0.0  0.0  0.0   0.0  0.0  0.0  0.0  0.0  ...   \n",
       "\n",
       "   project_subject_subcategories_socialsciences_visualarts  \\\n",
       "0                                                  0         \n",
       "1                                                  0         \n",
       "2                                                  0         \n",
       "3                                                  0         \n",
       "4                                                  0         \n",
       "\n",
       "   project_subject_subcategories_specialneeds  \\\n",
       "0                                           0   \n",
       "1                                           0   \n",
       "2                                           0   \n",
       "3                                           0   \n",
       "4                                           0   \n",
       "\n",
       "   project_subject_subcategories_specialneeds_teamsports  \\\n",
       "0                                                  0       \n",
       "1                                                  0       \n",
       "2                                                  0       \n",
       "3                                                  0       \n",
       "4                                                  0       \n",
       "\n",
       "   project_subject_subcategories_specialneeds_visualarts  \\\n",
       "0                                                  0       \n",
       "1                                                  0       \n",
       "2                                                  0       \n",
       "3                                                  0       \n",
       "4                                                  0       \n",
       "\n",
       "   project_subject_subcategories_specialneeds_warmth_care_hunger  \\\n",
       "0                                                  0               \n",
       "1                                                  0               \n",
       "2                                                  0               \n",
       "3                                                  0               \n",
       "4                                                  0               \n",
       "\n",
       "   project_subject_subcategories_teamsports  \\\n",
       "0                                         0   \n",
       "1                                         0   \n",
       "2                                         0   \n",
       "3                                         0   \n",
       "4                                         0   \n",
       "\n",
       "   project_subject_subcategories_teamsports_visualarts  \\\n",
       "0                                                  0     \n",
       "1                                                  0     \n",
       "2                                                  0     \n",
       "3                                                  0     \n",
       "4                                                  0     \n",
       "\n",
       "   project_subject_subcategories_visualarts  \\\n",
       "0                                         0   \n",
       "1                                         0   \n",
       "2                                         0   \n",
       "3                                         0   \n",
       "4                                         0   \n",
       "\n",
       "   project_subject_subcategories_visualarts_warmth_care_hunger  \\\n",
       "0                                                  0             \n",
       "1                                                  0             \n",
       "2                                                  0             \n",
       "3                                                  0             \n",
       "4                                                  0             \n",
       "\n",
       "   project_subject_subcategories_warmth_care_hunger  \n",
       "0                                                 0  \n",
       "1                                                 0  \n",
       "2                                                 0  \n",
       "3                                                 0  \n",
       "4                                                 0  \n",
       "\n",
       "[5 rows x 3103 columns]"
      ]
     },
     "execution_count": 78,
     "metadata": {},
     "output_type": "execute_result"
    }
   ],
   "source": [
    "dataset_vec_tfidf_final = pd.concat([dataset_vec_tfidf,dataset_encoded[dataset_encoded.columns[~dataset_encoded.columns.isin(['cleaned_essays','cleaned_titles','cleaned_summary'])]]],axis = 1)\n",
    "dataset_vec_tfidf_final.head(5)"
   ]
  },
  {
   "cell_type": "code",
   "execution_count": 79,
   "metadata": {},
   "outputs": [
    {
     "data": {
      "text/html": [
       "<div>\n",
       "<style scoped>\n",
       "    .dataframe tbody tr th:only-of-type {\n",
       "        vertical-align: middle;\n",
       "    }\n",
       "\n",
       "    .dataframe tbody tr th {\n",
       "        vertical-align: top;\n",
       "    }\n",
       "\n",
       "    .dataframe thead th {\n",
       "        text-align: right;\n",
       "    }\n",
       "</style>\n",
       "<table border=\"1\" class=\"dataframe\">\n",
       "  <thead>\n",
       "    <tr style=\"text-align: right;\">\n",
       "      <th></th>\n",
       "      <th>000</th>\n",
       "      <th>10</th>\n",
       "      <th>100</th>\n",
       "      <th>11</th>\n",
       "      <th>12</th>\n",
       "      <th>12th</th>\n",
       "      <th>13</th>\n",
       "      <th>14</th>\n",
       "      <th>15</th>\n",
       "      <th>16</th>\n",
       "      <th>...</th>\n",
       "      <th>project_subject_subcategories_socialsciences_visualarts</th>\n",
       "      <th>project_subject_subcategories_specialneeds</th>\n",
       "      <th>project_subject_subcategories_specialneeds_teamsports</th>\n",
       "      <th>project_subject_subcategories_specialneeds_visualarts</th>\n",
       "      <th>project_subject_subcategories_specialneeds_warmth_care_hunger</th>\n",
       "      <th>project_subject_subcategories_teamsports</th>\n",
       "      <th>project_subject_subcategories_teamsports_visualarts</th>\n",
       "      <th>project_subject_subcategories_visualarts</th>\n",
       "      <th>project_subject_subcategories_visualarts_warmth_care_hunger</th>\n",
       "      <th>project_subject_subcategories_warmth_care_hunger</th>\n",
       "    </tr>\n",
       "  </thead>\n",
       "  <tbody>\n",
       "    <tr>\n",
       "      <th>0</th>\n",
       "      <td>0.0</td>\n",
       "      <td>0.0</td>\n",
       "      <td>0.0</td>\n",
       "      <td>0.0</td>\n",
       "      <td>0.0</td>\n",
       "      <td>0.0</td>\n",
       "      <td>0.0</td>\n",
       "      <td>0.0</td>\n",
       "      <td>0.0</td>\n",
       "      <td>0.0</td>\n",
       "      <td>...</td>\n",
       "      <td>0.0</td>\n",
       "      <td>0.0</td>\n",
       "      <td>0.0</td>\n",
       "      <td>0.0</td>\n",
       "      <td>0.0</td>\n",
       "      <td>0.0</td>\n",
       "      <td>0.0</td>\n",
       "      <td>0.0</td>\n",
       "      <td>0.0</td>\n",
       "      <td>0.0</td>\n",
       "    </tr>\n",
       "    <tr>\n",
       "      <th>1</th>\n",
       "      <td>0.0</td>\n",
       "      <td>0.0</td>\n",
       "      <td>0.0</td>\n",
       "      <td>0.0</td>\n",
       "      <td>0.0</td>\n",
       "      <td>0.0</td>\n",
       "      <td>0.0</td>\n",
       "      <td>0.0</td>\n",
       "      <td>0.0</td>\n",
       "      <td>0.0</td>\n",
       "      <td>...</td>\n",
       "      <td>0.0</td>\n",
       "      <td>0.0</td>\n",
       "      <td>0.0</td>\n",
       "      <td>0.0</td>\n",
       "      <td>0.0</td>\n",
       "      <td>0.0</td>\n",
       "      <td>0.0</td>\n",
       "      <td>0.0</td>\n",
       "      <td>0.0</td>\n",
       "      <td>0.0</td>\n",
       "    </tr>\n",
       "  </tbody>\n",
       "</table>\n",
       "<p>2 rows × 3103 columns</p>\n",
       "</div>"
      ],
      "text/plain": [
       "   000   10  100   11   12  12th   13   14   15   16  ...  \\\n",
       "0  0.0  0.0  0.0  0.0  0.0   0.0  0.0  0.0  0.0  0.0  ...   \n",
       "1  0.0  0.0  0.0  0.0  0.0   0.0  0.0  0.0  0.0  0.0  ...   \n",
       "\n",
       "   project_subject_subcategories_socialsciences_visualarts  \\\n",
       "0                                                0.0         \n",
       "1                                                0.0         \n",
       "\n",
       "   project_subject_subcategories_specialneeds  \\\n",
       "0                                         0.0   \n",
       "1                                         0.0   \n",
       "\n",
       "   project_subject_subcategories_specialneeds_teamsports  \\\n",
       "0                                                0.0       \n",
       "1                                                0.0       \n",
       "\n",
       "   project_subject_subcategories_specialneeds_visualarts  \\\n",
       "0                                                0.0       \n",
       "1                                                0.0       \n",
       "\n",
       "   project_subject_subcategories_specialneeds_warmth_care_hunger  \\\n",
       "0                                                0.0               \n",
       "1                                                0.0               \n",
       "\n",
       "   project_subject_subcategories_teamsports  \\\n",
       "0                                       0.0   \n",
       "1                                       0.0   \n",
       "\n",
       "   project_subject_subcategories_teamsports_visualarts  \\\n",
       "0                                                0.0     \n",
       "1                                                0.0     \n",
       "\n",
       "   project_subject_subcategories_visualarts  \\\n",
       "0                                       0.0   \n",
       "1                                       0.0   \n",
       "\n",
       "   project_subject_subcategories_visualarts_warmth_care_hunger  \\\n",
       "0                                                0.0             \n",
       "1                                                0.0             \n",
       "\n",
       "   project_subject_subcategories_warmth_care_hunger  \n",
       "0                                               0.0  \n",
       "1                                               0.0  \n",
       "\n",
       "[2 rows x 3103 columns]"
      ]
     },
     "execution_count": 79,
     "metadata": {},
     "output_type": "execute_result"
    }
   ],
   "source": [
    "from sklearn import preprocessing\n",
    "min_max_scaler = preprocessing.MinMaxScaler()\n",
    "df_tfidf = pd.DataFrame(min_max_scaler.fit_transform(dataset_vec_tfidf_final),columns=dataset_vec_tfidf_final.columns)\n",
    "df_tfidf.head(2)"
   ]
  },
  {
   "cell_type": "code",
   "execution_count": 80,
   "metadata": {},
   "outputs": [],
   "source": [
    "X_TFIDF = df_tfidf.loc[:, df_tfidf.columns != 'project_is_approved']\n",
    "Y_TFIDF = df_tfidf.loc[:,df_tfidf.columns == 'project_is_approved']"
   ]
  },
  {
   "cell_type": "markdown",
   "metadata": {},
   "source": [
    "## Split dataset in training and test set\n",
    "As it is not a balanced class problem (Not all the catagory in target variable have same say). More than 90% of the dataset contains approved projects = 1 so we need stratified train test split to keep both the catagory in train as well as test set"
   ]
  },
  {
   "cell_type": "code",
   "execution_count": 81,
   "metadata": {},
   "outputs": [
    {
     "name": "stdout",
     "output_type": "stream",
     "text": [
      "(87398, 3102) (21850, 3102) (87398, 1) (21850, 1)\n"
     ]
    }
   ],
   "source": [
    "X_train_tfidf, X_test_tfidf,Y_train_tfidf,Y_test_tfidf = train_test_split(X_TFIDF,Y_TFIDF,test_size=0.2,random_state=1, stratify=Y_TFIDF)\n",
    "print(X_train_tfidf.shape,X_test_tfidf.shape,Y_train_tfidf.shape,Y_test_tfidf.shape)"
   ]
  },
  {
   "cell_type": "markdown",
   "metadata": {},
   "source": [
    "# Part B"
   ]
  },
  {
   "cell_type": "markdown",
   "metadata": {},
   "source": [
    "## Case 1"
   ]
  },
  {
   "cell_type": "code",
   "execution_count": 82,
   "metadata": {},
   "outputs": [],
   "source": [
    "#Fit Decision tree\n",
    "from sklearn.model_selection import GridSearchCV\n",
    "from sklearn.tree import DecisionTreeClassifier\n",
    "\n",
    "max_depth = list(range(10, 50,10))\n",
    "min_samples_split = list(range(100,500,100))\n",
    "parameters = dict(min_samples_split=min_samples_split,\n",
    "                  max_depth=max_depth)"
   ]
  },
  {
   "cell_type": "code",
   "execution_count": 83,
   "metadata": {},
   "outputs": [
    {
     "name": "stdout",
     "output_type": "stream",
     "text": [
      "{'max_depth': 10, 'min_samples_split': 300}\n"
     ]
    }
   ],
   "source": [
    "classifier_bow=DecisionTreeClassifier()\n",
    "\n",
    "gd_sr_bow = GridSearchCV(estimator=classifier_bow,\n",
    "                     param_grid=parameters,\n",
    "                     scoring='roc_auc',\n",
    "                     cv=5,\n",
    "                     n_jobs=-1)\n",
    "\n",
    "gd_sr_bow.fit(X_train_bow, Y_train_bow)\n",
    "best_parameters_bow = gd_sr_bow.best_params_\n",
    "print(best_parameters_bow)"
   ]
  },
  {
   "cell_type": "code",
   "execution_count": 84,
   "metadata": {},
   "outputs": [
    {
     "data": {
      "text/plain": [
       "DecisionTreeClassifier(criterion='entropy', max_depth=10, min_samples_split=300,\n",
       "                       random_state=0)"
      ]
     },
     "execution_count": 84,
     "metadata": {},
     "output_type": "execute_result"
    }
   ],
   "source": [
    "classifier_bow=DecisionTreeClassifier(criterion='entropy',random_state=0, max_depth=best_parameters_bow.get(\"max_depth\"), min_samples_split=best_parameters_bow.get(\"min_samples_split\"))\n",
    "classifier_bow.fit(X_train_bow,Y_train_bow)"
   ]
  },
  {
   "cell_type": "code",
   "execution_count": 259,
   "metadata": {},
   "outputs": [],
   "source": [
    "Y_pred_bow_dec_tree = classifier_bow.predict(X_test_bow)"
   ]
  },
  {
   "cell_type": "code",
   "execution_count": 260,
   "metadata": {},
   "outputs": [
    {
     "name": "stdout",
     "output_type": "stream",
     "text": [
      "The confusion matrix is\n",
      " [[    3  3305]\n",
      " [   68 18474]]\n"
     ]
    },
    {
     "data": {
      "image/png": "[encoded data removed]",
      "text/plain": [
       "<Figure size 432x288 with 2 Axes>"
      ]
     },
     "metadata": {
      "needs_background": "light"
     },
     "output_type": "display_data"
    }
   ],
   "source": [
    "from sklearn import metrics\n",
    "import scikitplot as skplt\n",
    "print(\"The confusion matrix is\\n\",metrics.confusion_matrix(Y_test_bow,Y_pred_bow_dec_tree))\n",
    "skplt.metrics.plot_confusion_matrix(Y_test_bow, Y_pred_bow_dec_tree)\n",
    "plt.show()"
   ]
  },
  {
   "cell_type": "code",
   "execution_count": 221,
   "metadata": {},
   "outputs": [
    {
     "name": "stdout",
     "output_type": "stream",
     "text": [
      "\n",
      "The Accuracy score is  0.845629290617849\n"
     ]
    }
   ],
   "source": [
    "print(\"\\nThe Accuracy score is \",metrics.accuracy_score(Y_test_bow,Y_pred_bow_dec_tree))"
   ]
  },
  {
   "cell_type": "code",
   "execution_count": 222,
   "metadata": {},
   "outputs": [
    {
     "name": "stdout",
     "output_type": "stream",
     "text": [
      "\n",
      "The AUC under ROC curve is  0.49861977129082546\n"
     ]
    }
   ],
   "source": [
    "print(\"\\nThe AUC under ROC curve is \",metrics.roc_auc_score(Y_test_bow,Y_pred_bow_dec_tree))"
   ]
  },
  {
   "cell_type": "code",
   "execution_count": 223,
   "metadata": {},
   "outputs": [],
   "source": [
    "y_probas_bow = classifier_bow.predict_proba(X_test_bow)"
   ]
  },
  {
   "cell_type": "code",
   "execution_count": 225,
   "metadata": {},
   "outputs": [
    {
     "data": {
      "image/png": "[encoded data removed]",
      "text/plain": [
       "<Figure size 432x288 with 1 Axes>"
      ]
     },
     "metadata": {
      "needs_background": "light"
     },
     "output_type": "display_data"
    }
   ],
   "source": [
    "import scikitplot as skplt\n",
    "import matplotlib.pyplot as plt\n",
    "\n",
    "skplt.metrics.plot_roc(Y_test_bow, y_probs_bow)\n",
    "plt.show()"
   ]
  },
  {
   "cell_type": "markdown",
   "metadata": {},
   "source": [
    "# Case 2"
   ]
  },
  {
   "cell_type": "code",
   "execution_count": 226,
   "metadata": {},
   "outputs": [
    {
     "name": "stdout",
     "output_type": "stream",
     "text": [
      "{'max_depth': 10, 'min_samples_split': 400}\n"
     ]
    }
   ],
   "source": [
    "classifier_tfidf=DecisionTreeClassifier()\n",
    "\n",
    "gd_sr_tfidf = GridSearchCV(estimator=classifier_tfidf,\n",
    "                     param_grid=parameters,\n",
    "                     scoring='roc_auc',\n",
    "                     cv=5,\n",
    "                     n_jobs=-1)\n",
    "\n",
    "gd_sr_tfidf.fit(X_train_tfidf, Y_train_tfidf)\n",
    "best_parameters_tfidf = gd_sr_tfidf.best_params_\n",
    "print(best_parameters_tfidf)"
   ]
  },
  {
   "cell_type": "markdown",
   "metadata": {},
   "source": [
    "## \n",
    "\n"
   ]
  },
  {
   "cell_type": "code",
   "execution_count": 227,
   "metadata": {},
   "outputs": [
    {
     "data": {
      "text/plain": [
       "DecisionTreeClassifier(criterion='entropy', max_depth=10, min_samples_split=400,\n",
       "                       random_state=0)"
      ]
     },
     "execution_count": 227,
     "metadata": {},
     "output_type": "execute_result"
    }
   ],
   "source": [
    "classifier_tfidf=DecisionTreeClassifier(criterion='entropy',random_state=0, max_depth=best_parameters_tfidf.get(\"max_depth\"), min_samples_split=best_parameters_tfidf.get(\"min_samples_split\"))\n",
    "classifier_tfidf.fit(X_train_tfidf,Y_train_tfidf)"
   ]
  },
  {
   "cell_type": "code",
   "execution_count": 228,
   "metadata": {},
   "outputs": [],
   "source": [
    "Y_pred_tfidf_dec_tree = classifier_tfidf.predict(X_test_tfidf)"
   ]
  },
  {
   "cell_type": "code",
   "execution_count": 229,
   "metadata": {},
   "outputs": [
    {
     "name": "stdout",
     "output_type": "stream",
     "text": [
      "The confusion matrix is\n",
      " [[   14  3294]\n",
      " [   78 18464]]\n"
     ]
    },
    {
     "data": {
      "image/png": "[encoded data removed]",
      "text/plain": [
       "<Figure size 432x288 with 2 Axes>"
      ]
     },
     "metadata": {
      "needs_background": "light"
     },
     "output_type": "display_data"
    }
   ],
   "source": [
    "print(\"The confusion matrix is\\n\",metrics.confusion_matrix(Y_test_tfidf,Y_pred_tfidf_dec_tree))\n",
    "skplt.metrics.plot_confusion_matrix(Y_test_tfidf, Y_pred_tfidf_dec_tree)\n",
    "plt.show()"
   ]
  },
  {
   "cell_type": "code",
   "execution_count": 230,
   "metadata": {},
   "outputs": [
    {
     "name": "stdout",
     "output_type": "stream",
     "text": [
      "\n",
      "The Accuracy score is  0.845675057208238\n"
     ]
    }
   ],
   "source": [
    "print(\"\\nThe Accuracy score is \",metrics.accuracy_score(Y_test_tfidf,Y_pred_tfidf_dec_tree))"
   ]
  },
  {
   "cell_type": "code",
   "execution_count": 231,
   "metadata": {},
   "outputs": [
    {
     "name": "stdout",
     "output_type": "stream",
     "text": [
      "\n",
      "The AUC under ROC curve is  0.50001274925112\n"
     ]
    }
   ],
   "source": [
    "print(\"\\nThe AUC under ROC curve is \",metrics.roc_auc_score(Y_test_tfidf,Y_pred_tfidf_dec_tree))"
   ]
  },
  {
   "cell_type": "code",
   "execution_count": 242,
   "metadata": {},
   "outputs": [],
   "source": [
    "y_probas_tfidf = classifier_tfidf.predict_proba(X_test_tfidf)"
   ]
  },
  {
   "cell_type": "code",
   "execution_count": 245,
   "metadata": {},
   "outputs": [
    {
     "data": {
      "image/png": "[encoded data removed]",
      "text/plain": [
       "<Figure size 432x288 with 1 Axes>"
      ]
     },
     "metadata": {
      "needs_background": "light"
     },
     "output_type": "display_data"
    }
   ],
   "source": [
    "skplt.metrics.plot_roc(Y_test_tfidf, y_probas_tfidf)\n",
    "plt.show()"
   ]
  },
  {
   "cell_type": "code",
   "execution_count": 246,
   "metadata": {},
   "outputs": [],
   "source": [
    "feature_importance = classifier_tfidf.feature_importances_\n",
    "non_important_features_column = []\n",
    "for i in range(len(feature_importance)):\n",
    "    if(not(feature_importance[i] > 0)):\n",
    "        non_important_features_column.append(i)"
   ]
  },
  {
   "cell_type": "code",
   "execution_count": 247,
   "metadata": {},
   "outputs": [],
   "source": [
    "X_TFIDF_IMP_FEATURES = X_TFIDF.drop(X_TFIDF.columns[non_important_features_column], axis = 1)"
   ]
  },
  {
   "cell_type": "code",
   "execution_count": 248,
   "metadata": {},
   "outputs": [
    {
     "name": "stdout",
     "output_type": "stream",
     "text": [
      "(87398, 258) (21850, 258) (87398, 1) (21850, 1)\n"
     ]
    }
   ],
   "source": [
    "X_train_tfidf_imp, X_test_tfidf_imp,Y_train_tfidf_imp,Y_test_tfidf_imp = train_test_split(X_TFIDF_IMP_FEATURES,Y_TFIDF,test_size=0.2,random_state=1, stratify=Y_TFIDF)\n",
    "print(X_train_tfidf_imp.shape,X_test_tfidf_imp.shape,Y_train_tfidf_imp.shape,Y_test_tfidf_imp.shape)"
   ]
  },
  {
   "cell_type": "code",
   "execution_count": 250,
   "metadata": {},
   "outputs": [
    {
     "name": "stdout",
     "output_type": "stream",
     "text": [
      "{'max_depth': 20, 'min_samples_split': 400}\n"
     ]
    }
   ],
   "source": [
    "classifier_tfidf_imp=DecisionTreeClassifier()\n",
    "\n",
    "gd_sr_tfidf_imp = GridSearchCV(estimator=classifier_tfidf_imp,\n",
    "                     param_grid=parameters,\n",
    "                     scoring='roc_auc',\n",
    "                     cv=5,\n",
    "                     n_jobs=-1)\n",
    "\n",
    "gd_sr_tfidf_imp.fit(X_train_tfidf_imp, Y_train_tfidf_imp)\n",
    "best_parameters_tfidf_imp = gd_sr_tfidf_imp.best_params_\n",
    "print(best_parameters_tfidf_imp)"
   ]
  },
  {
   "cell_type": "code",
   "execution_count": 251,
   "metadata": {},
   "outputs": [
    {
     "data": {
      "text/plain": [
       "DecisionTreeClassifier(criterion='entropy', max_depth=20, min_samples_split=400,\n",
       "                       random_state=0)"
      ]
     },
     "execution_count": 251,
     "metadata": {},
     "output_type": "execute_result"
    }
   ],
   "source": [
    "classifier_tfidf_imp=DecisionTreeClassifier(criterion='entropy',random_state=0, max_depth=best_parameters_tfidf_imp.get(\"max_depth\"), min_samples_split=best_parameters_tfidf_imp.get(\"min_samples_split\"))\n",
    "classifier_tfidf_imp.fit(X_train_tfidf_imp,Y_train_tfidf_imp)"
   ]
  },
  {
   "cell_type": "code",
   "execution_count": 252,
   "metadata": {},
   "outputs": [],
   "source": [
    "Y_pred_tfidf_imp_dec_tree = classifier_tfidf_imp.predict(X_test_tfidf_imp)"
   ]
  },
  {
   "cell_type": "code",
   "execution_count": 254,
   "metadata": {},
   "outputs": [
    {
     "name": "stdout",
     "output_type": "stream",
     "text": [
      "The confusion matrix is\n",
      " [[   31  3277]\n",
      " [  125 18417]]\n"
     ]
    },
    {
     "data": {
      "image/png": "[encoded data removed]",
      "text/plain": [
       "<Figure size 432x288 with 2 Axes>"
      ]
     },
     "metadata": {
      "needs_background": "light"
     },
     "output_type": "display_data"
    }
   ],
   "source": [
    "print(\"The confusion matrix is\\n\",metrics.confusion_matrix(Y_test_tfidf_imp,Y_pred_tfidf_imp_dec_tree))\n",
    "skplt.metrics.plot_confusion_matrix(Y_test_tfidf_imp, Y_pred_tfidf_imp_dec_tree)\n",
    "plt.show()"
   ]
  },
  {
   "cell_type": "code",
   "execution_count": 255,
   "metadata": {},
   "outputs": [
    {
     "name": "stdout",
     "output_type": "stream",
     "text": [
      "\n",
      "The Accuracy score is  0.8443020594965676\n"
     ]
    }
   ],
   "source": [
    "print(\"\\nThe Accuracy score is \",metrics.accuracy_score(Y_test_tfidf_imp,Y_pred_tfidf_imp_dec_tree))"
   ]
  },
  {
   "cell_type": "code",
   "execution_count": 256,
   "metadata": {},
   "outputs": [
    {
     "name": "stdout",
     "output_type": "stream",
     "text": [
      "\n",
      "The AUC under ROC curve is  0.5013148847213367\n"
     ]
    }
   ],
   "source": [
    "print(\"\\nThe AUC under ROC curve is \",metrics.roc_auc_score(Y_test_tfidf_imp,Y_pred_tfidf_imp_dec_tree))"
   ]
  },
  {
   "cell_type": "code",
   "execution_count": 257,
   "metadata": {},
   "outputs": [],
   "source": [
    "y_probas_tfidf_imp = classifier_tfidf_imp.predict_proba(X_test_tfidf_imp)"
   ]
  },
  {
   "cell_type": "code",
   "execution_count": 258,
   "metadata": {},
   "outputs": [
    {
     "data": {
      "image/png": "[encoded data removed]",
      "text/plain": [
       "<Figure size 432x288 with 1 Axes>"
      ]
     },
     "metadata": {
      "needs_background": "light"
     },
     "output_type": "display_data"
    }
   ],
   "source": [
    "skplt.metrics.plot_roc(Y_test_tfidf_imp, y_probas_tfidf_imp)\n",
    "plt.show()"
   ]
  },
  {
   "cell_type": "code",
   "execution_count": 8,
   "metadata": {},
   "outputs": [
    {
     "name": "stdout",
     "output_type": "stream",
     "text": [
      "+-----------------+---------+-----------------------------+------------+\n",
      "| Vectorizer      | Model   |   Hyper parameter-max depth |   Test AUC |\n",
      "+=================+=========+=============================+============+\n",
      "| BoW             | DT      |                          10 |   0.49862  |\n",
      "+-----------------+---------+-----------------------------+------------+\n",
      "| TFIDF           | DT      |                          10 |   0.500013 |\n",
      "+-----------------+---------+-----------------------------+------------+\n",
      "| TFIDF(Non Zero) | DT      |                          20 |   0.501315 |\n",
      "+-----------------+---------+-----------------------------+------------+\n"
     ]
    }
   ],
   "source": [
    "from tabulate import tabulate\n",
    "mydata = [\n",
    "    [\"BoW\", \"DT\",\"10\",\"0.49861977\"],\n",
    "    [\"TFIDF\", \"DT\",\"10\",\"0.5000127\"],\n",
    "    [\"TFIDF(Non Zero)\", \"DT\",\"20\",\"0.5013148\"]\n",
    "]\n",
    " \n",
    "head = [\"Vectorizer\", \"Model\",\"Hyper parameter-max depth\", \"Test AUC\"]\n",
    " \n",
    "# display table\n",
    "print(tabulate(mydata, headers=head, tablefmt=\"grid\"))"
   ]
  },
  {
   "cell_type": "markdown",
   "metadata": {},
   "source": [
    "## Observation"
   ]
  },
  {
   "cell_type": "markdown",
   "metadata": {},
   "source": [
    "### From the result set we can say that TFIDF with Non Zero Feature importance has highest AUC."
   ]
  }
 ],
 "metadata": {
  "kernelspec": {
   "display_name": "Python 3 (ipykernel)",
   "language": "python",
   "name": "python3"
  },
  "language_info": {
   "codemirror_mode": {
    "name": "ipython",
    "version": 3
   },
   "file_extension": ".py",
   "mimetype": "text/x-python",
   "name": "python",
   "nbconvert_exporter": "python",
   "pygments_lexer": "ipython3",
   "version": "3.9.7"
  }
 },
 "nbformat": 4,
 "nbformat_minor": 4
}
